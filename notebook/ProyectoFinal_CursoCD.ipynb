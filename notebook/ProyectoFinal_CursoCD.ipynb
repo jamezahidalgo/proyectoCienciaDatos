{
  "nbformat": 4,
  "nbformat_minor": 0,
  "metadata": {
    "colab": {
      "provenance": []
    },
    "kernelspec": {
      "name": "python3",
      "display_name": "Python 3"
    },
    "language_info": {
      "name": "python"
    }
  },
  "cells": [
    {
      "cell_type": "code",
      "source": [
        "# Descargar el archivo de data índice\n",
        "!wget https://raw.githubusercontent.com/jamezahidalgo/proyectoCienciaDatos/main/data/INDICE.xlsx\n",
        "# Descargar el archivo de data académica\n",
        "!wget https://raw.githubusercontent.com/jamezahidalgo/proyectoCienciaDatos/main/data/ACADEMICO.xlsx"
      ],
      "metadata": {
        "colab": {
          "base_uri": "https://localhost:8080/"
        },
        "id": "HYrUlH8xg1Vg",
        "outputId": "9b0fb9d2-95a7-476a-a170-d33ac79488ac"
      },
      "execution_count": null,
      "outputs": [
        {
          "output_type": "stream",
          "name": "stdout",
          "text": [
            "--2024-12-04 04:28:17--  https://raw.githubusercontent.com/jamezahidalgo/proyectoCienciaDatos/main/data/INDICE.xlsx\n",
            "Resolving raw.githubusercontent.com (raw.githubusercontent.com)... 185.199.110.133, 185.199.111.133, 185.199.109.133, ...\n",
            "Connecting to raw.githubusercontent.com (raw.githubusercontent.com)|185.199.110.133|:443... connected.\n",
            "HTTP request sent, awaiting response... 200 OK\n",
            "Length: 400203 (391K) [application/octet-stream]\n",
            "Saving to: ‘INDICE.xlsx.1’\n",
            "\n",
            "INDICE.xlsx.1       100%[===================>] 390.82K  1.91MB/s    in 0.2s    \n",
            "\n",
            "2024-12-04 04:28:17 (1.91 MB/s) - ‘INDICE.xlsx.1’ saved [400203/400203]\n",
            "\n",
            "--2024-12-04 04:28:17--  https://raw.githubusercontent.com/jamezahidalgo/proyectoCienciaDatos/main/data/ACADEMICO.xlsx\n",
            "Resolving raw.githubusercontent.com (raw.githubusercontent.com)... 185.199.108.133, 185.199.109.133, 185.199.110.133, ...\n",
            "Connecting to raw.githubusercontent.com (raw.githubusercontent.com)|185.199.108.133|:443... connected.\n",
            "HTTP request sent, awaiting response... 200 OK\n",
            "Length: 2757201 (2.6M) [application/octet-stream]\n",
            "Saving to: ‘ACADEMICO.xlsx.1’\n",
            "\n",
            "ACADEMICO.xlsx.1    100%[===================>]   2.63M  7.99MB/s    in 0.3s    \n",
            "\n",
            "2024-12-04 04:28:19 (7.99 MB/s) - ‘ACADEMICO.xlsx.1’ saved [2757201/2757201]\n",
            "\n"
          ]
        }
      ]
    },
    {
      "cell_type": "code",
      "execution_count": null,
      "metadata": {
        "id": "GoecezQxgrhf"
      },
      "outputs": [],
      "source": [
        "import pandas as pd\n",
        "import numpy as np\n",
        "import math\n",
        "\n",
        "import seaborn as sns\n",
        "import matplotlib.pyplot as plt\n",
        "\n",
        "from sklearn.linear_model import LogisticRegression\n",
        "from sklearn.ensemble import RandomForestClassifier\n",
        "from sklearn.tree import DecisionTreeClassifier, plot_tree\n",
        "from sklearn.neighbors import KNeighborsClassifier\n",
        "from sklearn.svm import SVC\n",
        "\n",
        "from sklearn.model_selection import train_test_split, cross_val_score, cross_validate, cross_val_predict, GridSearchCV\n",
        "from sklearn.metrics import accuracy_score, classification_report, confusion_matrix, roc_curve, auc, roc_auc_score, mean_squared_error\n",
        "\n",
        "from sklearn.pipeline import Pipeline\n",
        "from operator import itemgetter\n",
        "from collections import Counter\n",
        "\n",
        "from sklearn.preprocessing import MinMaxScaler, StandardScaler, RobustScaler, LabelEncoder\n",
        "from sklearn.metrics import silhouette_score\n",
        "from sklearn.cluster import KMeans\n",
        "from sklearn.decomposition import PCA\n",
        "from sklearn.base import TransformerMixin"
      ]
    },
    {
      "cell_type": "markdown",
      "source": [
        "# Tratamiento data índice"
      ],
      "metadata": {
        "id": "eCTMjcQmidGE"
      }
    },
    {
      "cell_type": "code",
      "source": [
        "data_indice = pd.read_excel(\"INDICE.xlsx\")\n",
        "data_indice.shape"
      ],
      "metadata": {
        "colab": {
          "base_uri": "https://localhost:8080/"
        },
        "id": "EMUVTP6khRr7",
        "outputId": "7d133da1-42c5-4285-fdd4-2150dcf0872f"
      },
      "execution_count": null,
      "outputs": [
        {
          "output_type": "execute_result",
          "data": {
            "text/plain": [
              "(3248, 28)"
            ]
          },
          "metadata": {},
          "execution_count": 150
        }
      ]
    },
    {
      "cell_type": "code",
      "source": [
        "data_indice.info()"
      ],
      "metadata": {
        "colab": {
          "base_uri": "https://localhost:8080/"
        },
        "id": "aHFmyrl9hgzs",
        "outputId": "baa6c82c-d0a4-42c3-9497-7af9b8cedbbc"
      },
      "execution_count": null,
      "outputs": [
        {
          "output_type": "stream",
          "name": "stdout",
          "text": [
            "<class 'pandas.core.frame.DataFrame'>\n",
            "RangeIndex: 3248 entries, 0 to 3247\n",
            "Data columns (total 28 columns):\n",
            " #   Column            Non-Null Count  Dtype         \n",
            "---  ------            --------------  -----         \n",
            " 0   AÑO               3248 non-null   int64         \n",
            " 1   SEMESTRE          3248 non-null   int64         \n",
            " 2   CODIGO_CARRERA    3248 non-null   int64         \n",
            " 3   NOMBRE_CARRERA    3248 non-null   object        \n",
            " 4   JORNADA           3248 non-null   object        \n",
            " 5   RUT               3248 non-null   object        \n",
            " 6   PERIODO_ABANDONO  63 non-null     object        \n",
            " 7   TIPO_RENUNCIA     63 non-null     object        \n",
            " 8   NOMBRES           3248 non-null   object        \n",
            " 9   GENERO            3248 non-null   object        \n",
            " 10  FECHA_NACIMIENTO  3248 non-null   datetime64[ns]\n",
            " 11  ESTADO_CIVIL      3190 non-null   object        \n",
            " 12  NACIONALIDAD      3248 non-null   object        \n",
            " 13  TIPO_INGRESO      3248 non-null   object        \n",
            " 14  SUBTIPO           2924 non-null   object        \n",
            " 15  AÑO_INGRESO       3248 non-null   int64         \n",
            " 16  SEMESTRE_INGRESO  3248 non-null   int64         \n",
            " 17  FECHA_MATRICULA   3248 non-null   datetime64[ns]\n",
            " 18  CONDICION         3248 non-null   object        \n",
            " 19  NOMBRE_COLEGIO    3208 non-null   object        \n",
            " 20  TIPO_COLEGIO      3200 non-null   object        \n",
            " 21  TIPO_ESTUDIO      3135 non-null   object        \n",
            " 22  PROM_LEM          3187 non-null   float64       \n",
            " 23  EGRESO_EM         3248 non-null   int64         \n",
            " 24  AÑO_PSU           20 non-null     float64       \n",
            " 25  PROM_PSU          20 non-null     float64       \n",
            " 26  COMUNA            3248 non-null   object        \n",
            " 27  REGION            3248 non-null   object        \n",
            "dtypes: datetime64[ns](2), float64(3), int64(6), object(17)\n",
            "memory usage: 710.6+ KB\n"
          ]
        }
      ]
    },
    {
      "cell_type": "code",
      "source": [
        "data_indice.columns = pd.DataFrame(data_indice.columns)[0].apply(lambda x : x.lower()).values\n",
        "data_indice.columns = pd.DataFrame(data_indice.columns)[0].apply(lambda x : x.replace(\" \", \"_\")).values\n",
        "data_indice.columns = pd.DataFrame(data_indice.columns)[0].apply(lambda x : x.replace(\".\", \"\")).values"
      ],
      "metadata": {
        "id": "5BDDHFy_hsCF"
      },
      "execution_count": null,
      "outputs": []
    },
    {
      "cell_type": "code",
      "source": [
        "data_indice.columns"
      ],
      "metadata": {
        "colab": {
          "base_uri": "https://localhost:8080/"
        },
        "id": "RPWqkEbHh-rO",
        "outputId": "0342dba5-0f47-47c6-ca5e-9cf42cb9889b"
      },
      "execution_count": null,
      "outputs": [
        {
          "output_type": "execute_result",
          "data": {
            "text/plain": [
              "Index(['año', 'semestre', 'codigo_carrera', 'nombre_carrera', 'jornada', 'rut',\n",
              "       'periodo_abandono', 'tipo_renuncia', 'nombres', 'genero',\n",
              "       'fecha_nacimiento', 'estado_civil', 'nacionalidad', 'tipo_ingreso',\n",
              "       'subtipo', 'año_ingreso', 'semestre_ingreso', 'fecha_matricula',\n",
              "       'condicion', 'nombre_colegio', 'tipo_colegio', 'tipo_estudio',\n",
              "       'prom_lem', 'egreso_em', 'año_psu', 'prom_psu', 'comuna', 'region'],\n",
              "      dtype='object')"
            ]
          },
          "metadata": {},
          "execution_count": 29
        }
      ]
    },
    {
      "cell_type": "code",
      "source": [
        "data_indice = data_indice.drop(['año_psu', 'prom_psu', 'semestre_ingreso', 'tipo_ingreso',\n",
        "                                'nombre_colegio', 'subtipo', 'estado_civil'], axis=1)\n",
        "data_indice.shape"
      ],
      "metadata": {
        "colab": {
          "base_uri": "https://localhost:8080/"
        },
        "id": "AXpKqUB0h76L",
        "outputId": "5e7bba19-6efe-4630-b01a-b99429c579a4"
      },
      "execution_count": null,
      "outputs": [
        {
          "output_type": "execute_result",
          "data": {
            "text/plain": [
              "(3248, 21)"
            ]
          },
          "metadata": {},
          "execution_count": 152
        }
      ]
    },
    {
      "cell_type": "code",
      "source": [
        "data_indice['tipo_renuncia'].unique()"
      ],
      "metadata": {
        "colab": {
          "base_uri": "https://localhost:8080/"
        },
        "id": "5u1ZzE7qlOPK",
        "outputId": "5102c06b-e7b8-4468-d0d7-303823625c83"
      },
      "execution_count": null,
      "outputs": [
        {
          "output_type": "execute_result",
          "data": {
            "text/plain": [
              "array([nan, 'Desertor', 'Suspensión pre-matricula', 'Suspension',\n",
              "       'Renuncia'], dtype=object)"
            ]
          },
          "metadata": {},
          "execution_count": 153
        }
      ]
    },
    {
      "cell_type": "code",
      "source": [
        "data_indice.groupby('tipo_renuncia').size()"
      ],
      "metadata": {
        "colab": {
          "base_uri": "https://localhost:8080/",
          "height": 241
        },
        "id": "Rwce4iKblWKx",
        "outputId": "9becdd67-6712-4b31-ea18-cf4f2008ddef"
      },
      "execution_count": null,
      "outputs": [
        {
          "output_type": "execute_result",
          "data": {
            "text/plain": [
              "tipo_renuncia\n",
              "Desertor                    36\n",
              "Renuncia                     2\n",
              "Suspension                  22\n",
              "Suspensión pre-matricula     3\n",
              "dtype: int64"
            ],
            "text/html": [
              "<div>\n",
              "<style scoped>\n",
              "    .dataframe tbody tr th:only-of-type {\n",
              "        vertical-align: middle;\n",
              "    }\n",
              "\n",
              "    .dataframe tbody tr th {\n",
              "        vertical-align: top;\n",
              "    }\n",
              "\n",
              "    .dataframe thead th {\n",
              "        text-align: right;\n",
              "    }\n",
              "</style>\n",
              "<table border=\"1\" class=\"dataframe\">\n",
              "  <thead>\n",
              "    <tr style=\"text-align: right;\">\n",
              "      <th></th>\n",
              "      <th>0</th>\n",
              "    </tr>\n",
              "    <tr>\n",
              "      <th>tipo_renuncia</th>\n",
              "      <th></th>\n",
              "    </tr>\n",
              "  </thead>\n",
              "  <tbody>\n",
              "    <tr>\n",
              "      <th>Desertor</th>\n",
              "      <td>36</td>\n",
              "    </tr>\n",
              "    <tr>\n",
              "      <th>Renuncia</th>\n",
              "      <td>2</td>\n",
              "    </tr>\n",
              "    <tr>\n",
              "      <th>Suspension</th>\n",
              "      <td>22</td>\n",
              "    </tr>\n",
              "    <tr>\n",
              "      <th>Suspensión pre-matricula</th>\n",
              "      <td>3</td>\n",
              "    </tr>\n",
              "  </tbody>\n",
              "</table>\n",
              "</div><br><label><b>dtype:</b> int64</label>"
            ]
          },
          "metadata": {},
          "execution_count": 87
        }
      ]
    },
    {
      "cell_type": "code",
      "source": [
        "# Reemplaza los nulos por NO desertor\n",
        "data_indice['tipo_renuncia'] = data_indice['tipo_renuncia'].fillna(\"No desertor\")"
      ],
      "metadata": {
        "id": "-IZ8pVMQmdGR"
      },
      "execution_count": null,
      "outputs": []
    },
    {
      "cell_type": "code",
      "source": [
        "data_indice.groupby('tipo_renuncia').size()"
      ],
      "metadata": {
        "colab": {
          "base_uri": "https://localhost:8080/",
          "height": 272
        },
        "id": "GRbfl6Svm9VN",
        "outputId": "5827b02c-892c-435c-b1a0-03f3d3bca526"
      },
      "execution_count": null,
      "outputs": [
        {
          "output_type": "execute_result",
          "data": {
            "text/plain": [
              "tipo_renuncia\n",
              "Desertor                      36\n",
              "No desertor                 3185\n",
              "Renuncia                       2\n",
              "Suspension                    22\n",
              "Suspensión pre-matricula       3\n",
              "dtype: int64"
            ],
            "text/html": [
              "<div>\n",
              "<style scoped>\n",
              "    .dataframe tbody tr th:only-of-type {\n",
              "        vertical-align: middle;\n",
              "    }\n",
              "\n",
              "    .dataframe tbody tr th {\n",
              "        vertical-align: top;\n",
              "    }\n",
              "\n",
              "    .dataframe thead th {\n",
              "        text-align: right;\n",
              "    }\n",
              "</style>\n",
              "<table border=\"1\" class=\"dataframe\">\n",
              "  <thead>\n",
              "    <tr style=\"text-align: right;\">\n",
              "      <th></th>\n",
              "      <th>0</th>\n",
              "    </tr>\n",
              "    <tr>\n",
              "      <th>tipo_renuncia</th>\n",
              "      <th></th>\n",
              "    </tr>\n",
              "  </thead>\n",
              "  <tbody>\n",
              "    <tr>\n",
              "      <th>Desertor</th>\n",
              "      <td>36</td>\n",
              "    </tr>\n",
              "    <tr>\n",
              "      <th>No desertor</th>\n",
              "      <td>3185</td>\n",
              "    </tr>\n",
              "    <tr>\n",
              "      <th>Renuncia</th>\n",
              "      <td>2</td>\n",
              "    </tr>\n",
              "    <tr>\n",
              "      <th>Suspension</th>\n",
              "      <td>22</td>\n",
              "    </tr>\n",
              "    <tr>\n",
              "      <th>Suspensión pre-matricula</th>\n",
              "      <td>3</td>\n",
              "    </tr>\n",
              "  </tbody>\n",
              "</table>\n",
              "</div><br><label><b>dtype:</b> int64</label>"
            ]
          },
          "metadata": {},
          "execution_count": 89
        }
      ]
    },
    {
      "cell_type": "code",
      "source": [
        "data_indice['periodo_abandono'] = data_indice['periodo_abandono'].fillna(\"No aplica\")"
      ],
      "metadata": {
        "id": "rLqnR1TMobh6"
      },
      "execution_count": null,
      "outputs": []
    },
    {
      "cell_type": "code",
      "source": [
        "data_indice.info()"
      ],
      "metadata": {
        "colab": {
          "base_uri": "https://localhost:8080/"
        },
        "id": "fdSTQ7QVnCB4",
        "outputId": "5d2dedf8-059a-4403-fc3d-7c4d7d35d235"
      },
      "execution_count": null,
      "outputs": [
        {
          "output_type": "stream",
          "name": "stdout",
          "text": [
            "<class 'pandas.core.frame.DataFrame'>\n",
            "RangeIndex: 3248 entries, 0 to 3247\n",
            "Data columns (total 21 columns):\n",
            " #   Column            Non-Null Count  Dtype         \n",
            "---  ------            --------------  -----         \n",
            " 0   año               3248 non-null   int64         \n",
            " 1   semestre          3248 non-null   int64         \n",
            " 2   codigo_carrera    3248 non-null   int64         \n",
            " 3   nombre_carrera    3248 non-null   object        \n",
            " 4   jornada           3248 non-null   object        \n",
            " 5   rut               3248 non-null   object        \n",
            " 6   periodo_abandono  3248 non-null   object        \n",
            " 7   tipo_renuncia     3248 non-null   object        \n",
            " 8   nombres           3248 non-null   object        \n",
            " 9   genero            3248 non-null   object        \n",
            " 10  fecha_nacimiento  3248 non-null   datetime64[ns]\n",
            " 11  nacionalidad      3248 non-null   object        \n",
            " 12  año_ingreso       3248 non-null   int64         \n",
            " 13  fecha_matricula   3248 non-null   datetime64[ns]\n",
            " 14  condicion         3248 non-null   object        \n",
            " 15  tipo_colegio      3200 non-null   object        \n",
            " 16  tipo_estudio      3135 non-null   object        \n",
            " 17  prom_lem          3187 non-null   float64       \n",
            " 18  egreso_em         3248 non-null   int64         \n",
            " 19  comuna            3248 non-null   object        \n",
            " 20  region            3248 non-null   object        \n",
            "dtypes: datetime64[ns](2), float64(1), int64(5), object(13)\n",
            "memory usage: 533.0+ KB\n"
          ]
        }
      ]
    },
    {
      "cell_type": "code",
      "source": [
        "data_indice.dropna(inplace=True)\n",
        "data_indice.info()"
      ],
      "metadata": {
        "colab": {
          "base_uri": "https://localhost:8080/"
        },
        "id": "hZGzqYBDircK",
        "outputId": "e89aa55f-76a4-40dc-c0af-9a15577d421f"
      },
      "execution_count": null,
      "outputs": [
        {
          "output_type": "stream",
          "name": "stdout",
          "text": [
            "<class 'pandas.core.frame.DataFrame'>\n",
            "Index: 3129 entries, 0 to 3212\n",
            "Data columns (total 21 columns):\n",
            " #   Column            Non-Null Count  Dtype         \n",
            "---  ------            --------------  -----         \n",
            " 0   año               3129 non-null   int64         \n",
            " 1   semestre          3129 non-null   int64         \n",
            " 2   codigo_carrera    3129 non-null   int64         \n",
            " 3   nombre_carrera    3129 non-null   object        \n",
            " 4   jornada           3129 non-null   object        \n",
            " 5   rut               3129 non-null   object        \n",
            " 6   periodo_abandono  3129 non-null   object        \n",
            " 7   tipo_renuncia     3129 non-null   object        \n",
            " 8   nombres           3129 non-null   object        \n",
            " 9   genero            3129 non-null   object        \n",
            " 10  fecha_nacimiento  3129 non-null   datetime64[ns]\n",
            " 11  nacionalidad      3129 non-null   object        \n",
            " 12  año_ingreso       3129 non-null   int64         \n",
            " 13  fecha_matricula   3129 non-null   datetime64[ns]\n",
            " 14  condicion         3129 non-null   object        \n",
            " 15  tipo_colegio      3129 non-null   object        \n",
            " 16  tipo_estudio      3129 non-null   object        \n",
            " 17  prom_lem          3129 non-null   float64       \n",
            " 18  egreso_em         3129 non-null   int64         \n",
            " 19  comuna            3129 non-null   object        \n",
            " 20  region            3129 non-null   object        \n",
            "dtypes: datetime64[ns](2), float64(1), int64(5), object(13)\n",
            "memory usage: 537.8+ KB\n"
          ]
        }
      ]
    },
    {
      "cell_type": "code",
      "source": [
        "periodos_trabajo = ['2021-1', '2021-2', '2022-1', '2022-2',\n",
        "       '2023-1', '2023-2']\n",
        "desertores = data_indice.query(\"(tipo_renuncia == 'Desertor' or tipo_renuncia == 'Renuncia') and periodo_abandono in @periodos_trabajo\")\n",
        "desertores.shape"
      ],
      "metadata": {
        "colab": {
          "base_uri": "https://localhost:8080/"
        },
        "id": "LzRu92O8nUZU",
        "outputId": "a512ded8-dbbc-4b5a-e8c0-a5b9c79b05ce"
      },
      "execution_count": null,
      "outputs": [
        {
          "output_type": "execute_result",
          "data": {
            "text/plain": [
              "(38, 21)"
            ]
          },
          "metadata": {},
          "execution_count": 157
        }
      ]
    },
    {
      "cell_type": "code",
      "source": [
        "desertores.info()"
      ],
      "metadata": {
        "colab": {
          "base_uri": "https://localhost:8080/"
        },
        "id": "xsQdReKnn9MD",
        "outputId": "0bf6b635-8475-423f-c5e1-946258db4aea"
      },
      "execution_count": null,
      "outputs": [
        {
          "output_type": "stream",
          "name": "stdout",
          "text": [
            "<class 'pandas.core.frame.DataFrame'>\n",
            "Index: 38 entries, 8 to 2604\n",
            "Data columns (total 21 columns):\n",
            " #   Column            Non-Null Count  Dtype         \n",
            "---  ------            --------------  -----         \n",
            " 0   año               38 non-null     int64         \n",
            " 1   semestre          38 non-null     int64         \n",
            " 2   codigo_carrera    38 non-null     int64         \n",
            " 3   nombre_carrera    38 non-null     object        \n",
            " 4   jornada           38 non-null     object        \n",
            " 5   rut               38 non-null     object        \n",
            " 6   periodo_abandono  38 non-null     object        \n",
            " 7   tipo_renuncia     38 non-null     object        \n",
            " 8   nombres           38 non-null     object        \n",
            " 9   genero            38 non-null     object        \n",
            " 10  fecha_nacimiento  38 non-null     datetime64[ns]\n",
            " 11  nacionalidad      38 non-null     object        \n",
            " 12  año_ingreso       38 non-null     int64         \n",
            " 13  fecha_matricula   38 non-null     datetime64[ns]\n",
            " 14  condicion         38 non-null     object        \n",
            " 15  tipo_colegio      38 non-null     object        \n",
            " 16  tipo_estudio      38 non-null     object        \n",
            " 17  prom_lem          38 non-null     float64       \n",
            " 18  egreso_em         38 non-null     int64         \n",
            " 19  comuna            38 non-null     object        \n",
            " 20  region            38 non-null     object        \n",
            "dtypes: datetime64[ns](2), float64(1), int64(5), object(13)\n",
            "memory usage: 6.5+ KB\n"
          ]
        }
      ]
    },
    {
      "cell_type": "code",
      "source": [
        "data_indice['edad_ingreso'] = data_indice['año_ingreso'] - data_indice['fecha_nacimiento'].dt.year"
      ],
      "metadata": {
        "id": "h1srno9ppApH"
      },
      "execution_count": null,
      "outputs": []
    },
    {
      "cell_type": "code",
      "source": [
        "data_indice.info()"
      ],
      "metadata": {
        "colab": {
          "base_uri": "https://localhost:8080/"
        },
        "id": "hrrHZtUopK8d",
        "outputId": "aeb0a5bc-8dfb-4dff-e690-f4edfe14d150"
      },
      "execution_count": null,
      "outputs": [
        {
          "output_type": "stream",
          "name": "stdout",
          "text": [
            "<class 'pandas.core.frame.DataFrame'>\n",
            "Index: 3129 entries, 0 to 3212\n",
            "Data columns (total 22 columns):\n",
            " #   Column            Non-Null Count  Dtype         \n",
            "---  ------            --------------  -----         \n",
            " 0   año               3129 non-null   int64         \n",
            " 1   semestre          3129 non-null   int64         \n",
            " 2   codigo_carrera    3129 non-null   int64         \n",
            " 3   nombre_carrera    3129 non-null   object        \n",
            " 4   jornada           3129 non-null   object        \n",
            " 5   rut               3129 non-null   object        \n",
            " 6   periodo_abandono  3129 non-null   object        \n",
            " 7   tipo_renuncia     3129 non-null   object        \n",
            " 8   nombres           3129 non-null   object        \n",
            " 9   genero            3129 non-null   object        \n",
            " 10  fecha_nacimiento  3129 non-null   datetime64[ns]\n",
            " 11  nacionalidad      3129 non-null   object        \n",
            " 12  año_ingreso       3129 non-null   int64         \n",
            " 13  fecha_matricula   3129 non-null   datetime64[ns]\n",
            " 14  condicion         3129 non-null   object        \n",
            " 15  tipo_colegio      3129 non-null   object        \n",
            " 16  tipo_estudio      3129 non-null   object        \n",
            " 17  prom_lem          3129 non-null   float64       \n",
            " 18  egreso_em         3129 non-null   int64         \n",
            " 19  comuna            3129 non-null   object        \n",
            " 20  region            3129 non-null   object        \n",
            " 21  edad_ingreso      3129 non-null   int64         \n",
            "dtypes: datetime64[ns](2), float64(1), int64(6), object(13)\n",
            "memory usage: 562.2+ KB\n"
          ]
        }
      ]
    },
    {
      "cell_type": "code",
      "source": [
        "# Adapta el tipo de dato del RUT\n",
        "data_indice['rut'] = data_indice['rut'].astype(\"str\")"
      ],
      "metadata": {
        "id": "Acx-dy6Gr_Wu"
      },
      "execution_count": null,
      "outputs": []
    },
    {
      "cell_type": "markdown",
      "source": [
        "# Tratamiento data académica"
      ],
      "metadata": {
        "id": "APoQSMYziZ8b"
      }
    },
    {
      "cell_type": "code",
      "source": [
        "data_academica = pd.read_excel(\"ACADEMICO.xlsx\")\n",
        "data_academica.shape"
      ],
      "metadata": {
        "colab": {
          "base_uri": "https://localhost:8080/"
        },
        "id": "PsAPWlhuhY03",
        "outputId": "d580e8b8-c817-4510-983a-c2991652a67d"
      },
      "execution_count": null,
      "outputs": [
        {
          "output_type": "execute_result",
          "data": {
            "text/plain": [
              "(16507, 35)"
            ]
          },
          "metadata": {},
          "execution_count": 161
        }
      ]
    },
    {
      "cell_type": "code",
      "source": [
        "data_academica.columns = pd.DataFrame(data_academica.columns)[0].apply(lambda x : x.lower()).values\n",
        "data_academica.columns = pd.DataFrame(data_academica.columns)[0].apply(lambda x : x.replace(\" \", \"_\")).values\n",
        "data_academica.columns = pd.DataFrame(data_academica.columns)[0].apply(lambda x : x.replace(\".\", \"\")).values"
      ],
      "metadata": {
        "id": "gaQpEWMnjWg7"
      },
      "execution_count": null,
      "outputs": []
    },
    {
      "cell_type": "code",
      "source": [
        "data_academica.info()"
      ],
      "metadata": {
        "colab": {
          "base_uri": "https://localhost:8080/"
        },
        "id": "fMVen4tbjbG3",
        "outputId": "c03ddc9e-786f-4de7-c583-80e9d44999a4"
      },
      "execution_count": null,
      "outputs": [
        {
          "output_type": "stream",
          "name": "stdout",
          "text": [
            "<class 'pandas.core.frame.DataFrame'>\n",
            "RangeIndex: 16507 entries, 0 to 16506\n",
            "Data columns (total 35 columns):\n",
            " #   Column                    Non-Null Count  Dtype  \n",
            "---  ------                    --------------  -----  \n",
            " 0   ano_academico             16507 non-null  int64  \n",
            " 1   dom_semestre              16507 non-null  int64  \n",
            " 2   carrera_codigo_original   16507 non-null  int64  \n",
            " 3   carrera_codigo            16507 non-null  int64  \n",
            " 4   carrera_nombre            16507 non-null  object \n",
            " 5   jornada                   16507 non-null  object \n",
            " 6   codigo_ramo               16507 non-null  object \n",
            " 7   descripcion_ramo          16507 non-null  object \n",
            " 8   deh_seccion               16507 non-null  int64  \n",
            " 9   rut_alumno                16507 non-null  object \n",
            " 10  nombre_alumno             16507 non-null  object \n",
            " 11  estado_final_ramo         16507 non-null  object \n",
            " 12  cantidad_notas_parciales  16507 non-null  int64  \n",
            " 13  cantidad_notas_examen     16507 non-null  int64  \n",
            " 14  c1                        16504 non-null  float64\n",
            " 15  c2                        16504 non-null  float64\n",
            " 16  c3                        16441 non-null  float64\n",
            " 17  c4                        14740 non-null  float64\n",
            " 18  c5                        14208 non-null  float64\n",
            " 19  c6                        13875 non-null  float64\n",
            " 20  c7                        13743 non-null  float64\n",
            " 21  c8                        13743 non-null  float64\n",
            " 22  c9                        13743 non-null  float64\n",
            " 23  c10                       13743 non-null  float64\n",
            " 24  e1                        16190 non-null  float64\n",
            " 25  e2                        14148 non-null  float64\n",
            " 26  sede_codigo_alumno        16507 non-null  int64  \n",
            " 27  carrera_codigo_alum       16507 non-null  int64  \n",
            " 28  codigo_jornada_alumno     16507 non-null  int64  \n",
            " 29  prom_calificaciones       16507 non-null  float64\n",
            " 30  prom_examenes             16507 non-null  float64\n",
            " 31  nota_final                16507 non-null  float64\n",
            " 32  ramo_codigo_malla         16507 non-null  object \n",
            " 33  descripcion_ramo_malla    16507 non-null  object \n",
            " 34  examen_repeticion         13785 non-null  float64\n",
            "dtypes: float64(16), int64(10), object(9)\n",
            "memory usage: 4.4+ MB\n"
          ]
        }
      ]
    },
    {
      "cell_type": "code",
      "source": [
        "data_academica['rut_alumno'] = data_academica['rut_alumno'].astype(\"str\")"
      ],
      "metadata": {
        "id": "BtAx54WesRCZ"
      },
      "execution_count": null,
      "outputs": []
    },
    {
      "cell_type": "code",
      "source": [
        "data_academica_modelo = data_academica.drop(['carrera_nombre', 'jornada', 'codigo_ramo',\n",
        "       'descripcion_ramo', 'deh_seccion',\n",
        "       'cantidad_notas_parciales',\n",
        "       'cantidad_notas_examen',\n",
        "       'c4', 'c5', 'c6','c7','c8','c9','c10','e1',\n",
        "       'e2',\n",
        "       'sede_codigo_alumno', 'carrera_codigo_alum', 'prom_calificaciones',\n",
        "       'prom_examenes',  'ramo_codigo_malla',\n",
        "       'descripcion_ramo_malla', 'examen_repeticion'], axis=1)\n",
        "data_academica_modelo.info()"
      ],
      "metadata": {
        "colab": {
          "base_uri": "https://localhost:8080/"
        },
        "id": "DJXMyzqNjrPq",
        "outputId": "0db6d88e-5d5a-413e-b11d-9d82581086e4"
      },
      "execution_count": null,
      "outputs": [
        {
          "output_type": "stream",
          "name": "stdout",
          "text": [
            "<class 'pandas.core.frame.DataFrame'>\n",
            "RangeIndex: 16507 entries, 0 to 16506\n",
            "Data columns (total 12 columns):\n",
            " #   Column                   Non-Null Count  Dtype  \n",
            "---  ------                   --------------  -----  \n",
            " 0   ano_academico            16507 non-null  int64  \n",
            " 1   dom_semestre             16507 non-null  int64  \n",
            " 2   carrera_codigo_original  16507 non-null  int64  \n",
            " 3   carrera_codigo           16507 non-null  int64  \n",
            " 4   rut_alumno               16507 non-null  object \n",
            " 5   nombre_alumno            16507 non-null  object \n",
            " 6   estado_final_ramo        16507 non-null  object \n",
            " 7   c1                       16504 non-null  float64\n",
            " 8   c2                       16504 non-null  float64\n",
            " 9   c3                       16441 non-null  float64\n",
            " 10  codigo_jornada_alumno    16507 non-null  int64  \n",
            " 11  nota_final               16507 non-null  float64\n",
            "dtypes: float64(4), int64(5), object(3)\n",
            "memory usage: 1.5+ MB\n"
          ]
        }
      ]
    },
    {
      "cell_type": "code",
      "source": [
        "# Contar valores nulos por columna\n",
        "nulos_por_columna = data_academica_modelo.isnull().sum()\n",
        "columnas_con_nulos = nulos_por_columna[nulos_por_columna > 0].index.tolist()\n",
        "print(\"Columnas con nulos:\", columnas_con_nulos)"
      ],
      "metadata": {
        "colab": {
          "base_uri": "https://localhost:8080/"
        },
        "id": "-fJ_B1ZgkTs2",
        "outputId": "76c3fa24-5e78-427b-bdf5-557903f9a2ce"
      },
      "execution_count": null,
      "outputs": [
        {
          "output_type": "stream",
          "name": "stdout",
          "text": [
            "Columnas con nulos: ['c1', 'c2', 'c3']\n"
          ]
        }
      ]
    },
    {
      "cell_type": "code",
      "source": [
        "nulos_por_columna"
      ],
      "metadata": {
        "colab": {
          "base_uri": "https://localhost:8080/",
          "height": 460
        },
        "id": "TU5HHuhkka-5",
        "outputId": "5e3aa472-8fa1-4bd9-8eb5-e589676af173"
      },
      "execution_count": null,
      "outputs": [
        {
          "output_type": "execute_result",
          "data": {
            "text/plain": [
              "ano_academico               0\n",
              "dom_semestre                0\n",
              "carrera_codigo_original     0\n",
              "carrera_codigo              0\n",
              "rut_alumno                  0\n",
              "nombre_alumno               0\n",
              "estado_final_ramo           0\n",
              "c1                          3\n",
              "c2                          3\n",
              "c3                         66\n",
              "codigo_jornada_alumno       0\n",
              "nota_final                  0\n",
              "dtype: int64"
            ],
            "text/html": [
              "<div>\n",
              "<style scoped>\n",
              "    .dataframe tbody tr th:only-of-type {\n",
              "        vertical-align: middle;\n",
              "    }\n",
              "\n",
              "    .dataframe tbody tr th {\n",
              "        vertical-align: top;\n",
              "    }\n",
              "\n",
              "    .dataframe thead th {\n",
              "        text-align: right;\n",
              "    }\n",
              "</style>\n",
              "<table border=\"1\" class=\"dataframe\">\n",
              "  <thead>\n",
              "    <tr style=\"text-align: right;\">\n",
              "      <th></th>\n",
              "      <th>0</th>\n",
              "    </tr>\n",
              "  </thead>\n",
              "  <tbody>\n",
              "    <tr>\n",
              "      <th>ano_academico</th>\n",
              "      <td>0</td>\n",
              "    </tr>\n",
              "    <tr>\n",
              "      <th>dom_semestre</th>\n",
              "      <td>0</td>\n",
              "    </tr>\n",
              "    <tr>\n",
              "      <th>carrera_codigo_original</th>\n",
              "      <td>0</td>\n",
              "    </tr>\n",
              "    <tr>\n",
              "      <th>carrera_codigo</th>\n",
              "      <td>0</td>\n",
              "    </tr>\n",
              "    <tr>\n",
              "      <th>rut_alumno</th>\n",
              "      <td>0</td>\n",
              "    </tr>\n",
              "    <tr>\n",
              "      <th>nombre_alumno</th>\n",
              "      <td>0</td>\n",
              "    </tr>\n",
              "    <tr>\n",
              "      <th>estado_final_ramo</th>\n",
              "      <td>0</td>\n",
              "    </tr>\n",
              "    <tr>\n",
              "      <th>c1</th>\n",
              "      <td>3</td>\n",
              "    </tr>\n",
              "    <tr>\n",
              "      <th>c2</th>\n",
              "      <td>3</td>\n",
              "    </tr>\n",
              "    <tr>\n",
              "      <th>c3</th>\n",
              "      <td>66</td>\n",
              "    </tr>\n",
              "    <tr>\n",
              "      <th>codigo_jornada_alumno</th>\n",
              "      <td>0</td>\n",
              "    </tr>\n",
              "    <tr>\n",
              "      <th>nota_final</th>\n",
              "      <td>0</td>\n",
              "    </tr>\n",
              "  </tbody>\n",
              "</table>\n",
              "</div><br><label><b>dtype:</b> int64</label>"
            ]
          },
          "metadata": {},
          "execution_count": 104
        }
      ]
    },
    {
      "cell_type": "code",
      "source": [
        "data_academica_modelo = data_academica_modelo.dropna()\n",
        "data_academica.shape"
      ],
      "metadata": {
        "colab": {
          "base_uri": "https://localhost:8080/"
        },
        "id": "_6WynL7mkkgJ",
        "outputId": "42fd74e4-1568-4315-cdf3-715744c8b1df"
      },
      "execution_count": null,
      "outputs": [
        {
          "output_type": "execute_result",
          "data": {
            "text/plain": [
              "(16507, 35)"
            ]
          },
          "metadata": {},
          "execution_count": 167
        }
      ]
    },
    {
      "cell_type": "code",
      "source": [
        "# Convertir ambas colecciones a conjuntos\n",
        "set_indice = set(data_indice.rut.unique())\n",
        "set_academico = set(data_academica.rut_alumno.unique())\n",
        "\n",
        "# Obtener los elementos que están en set_desertores pero no en set_indice\n",
        "diferencia = set_indice - set_academico\n",
        "\n",
        "# Mostrar los resultados\n",
        "print(\"Elementos en índice pero no en data académica:\")\n",
        "print(len(diferencia))"
      ],
      "metadata": {
        "colab": {
          "base_uri": "https://localhost:8080/"
        },
        "id": "t33fS6PepSyB",
        "outputId": "6bd6e46a-bc25-4d8b-e315-5eaeb976029d"
      },
      "execution_count": null,
      "outputs": [
        {
          "output_type": "stream",
          "name": "stdout",
          "text": [
            "Elementos en índice pero no en data académica:\n",
            "21\n"
          ]
        }
      ]
    },
    {
      "cell_type": "code",
      "source": [
        "diferencia"
      ],
      "metadata": {
        "colab": {
          "base_uri": "https://localhost:8080/"
        },
        "id": "ID-6GhbwqGzx",
        "outputId": "378c604a-dafb-4350-a61e-209abe3e79aa"
      },
      "execution_count": null,
      "outputs": [
        {
          "output_type": "execute_result",
          "data": {
            "text/plain": [
              "{'145939208',\n",
              " '159520749',\n",
              " '183561324',\n",
              " '18807524K',\n",
              " '188143342',\n",
              " '190913643',\n",
              " '192248353',\n",
              " '19512616K',\n",
              " '195777209',\n",
              " '196769773',\n",
              " '197676566',\n",
              " '199061291',\n",
              " '20257825K',\n",
              " '203616988',\n",
              " '204387079',\n",
              " '20488109K',\n",
              " '209078457',\n",
              " '210712127',\n",
              " '210729984',\n",
              " '212883506',\n",
              " '21494846K'}"
            ]
          },
          "metadata": {},
          "execution_count": 107
        }
      ]
    },
    {
      "cell_type": "code",
      "source": [
        "data_indice.query(\"rut == '21494846K'\")"
      ],
      "metadata": {
        "colab": {
          "base_uri": "https://localhost:8080/",
          "height": 182
        },
        "id": "Ndnc6692qJ9u",
        "outputId": "69b518fa-59e4-4bab-e72e-0751019728db"
      },
      "execution_count": null,
      "outputs": [
        {
          "output_type": "execute_result",
          "data": {
            "text/plain": [
              "       año  semestre  codigo_carrera                      nombre_carrera  \\\n",
              "2302  2023         1         1446214  Ingenieria en Conectividad y Redes   \n",
              "\n",
              "     jornada        rut periodo_abandono tipo_renuncia  \\\n",
              "2302       D  21494846K           2023-1      Desertor   \n",
              "\n",
              "                         nombres     genero  ... año_ingreso fecha_matricula  \\\n",
              "2302  David Moises Briceno Tapia  Masculino  ...        2023      2023-01-20   \n",
              "\n",
              "      condicion              tipo_colegio          tipo_estudio prom_lem  \\\n",
              "2302   Inscrito  Particular Subvencionado  Cientifico Humanista      6.1   \n",
              "\n",
              "     egreso_em               comuna          region edad_ingreso  \n",
              "2302      2021  San Pedro de la Paz  VIII - BIO-BIO           19  \n",
              "\n",
              "[1 rows x 22 columns]"
            ],
            "text/html": [
              "\n",
              "  <div id=\"df-4f1c329c-259a-4fa5-9ee2-00cb4c180af7\" class=\"colab-df-container\">\n",
              "    <div>\n",
              "<style scoped>\n",
              "    .dataframe tbody tr th:only-of-type {\n",
              "        vertical-align: middle;\n",
              "    }\n",
              "\n",
              "    .dataframe tbody tr th {\n",
              "        vertical-align: top;\n",
              "    }\n",
              "\n",
              "    .dataframe thead th {\n",
              "        text-align: right;\n",
              "    }\n",
              "</style>\n",
              "<table border=\"1\" class=\"dataframe\">\n",
              "  <thead>\n",
              "    <tr style=\"text-align: right;\">\n",
              "      <th></th>\n",
              "      <th>año</th>\n",
              "      <th>semestre</th>\n",
              "      <th>codigo_carrera</th>\n",
              "      <th>nombre_carrera</th>\n",
              "      <th>jornada</th>\n",
              "      <th>rut</th>\n",
              "      <th>periodo_abandono</th>\n",
              "      <th>tipo_renuncia</th>\n",
              "      <th>nombres</th>\n",
              "      <th>genero</th>\n",
              "      <th>...</th>\n",
              "      <th>año_ingreso</th>\n",
              "      <th>fecha_matricula</th>\n",
              "      <th>condicion</th>\n",
              "      <th>tipo_colegio</th>\n",
              "      <th>tipo_estudio</th>\n",
              "      <th>prom_lem</th>\n",
              "      <th>egreso_em</th>\n",
              "      <th>comuna</th>\n",
              "      <th>region</th>\n",
              "      <th>edad_ingreso</th>\n",
              "    </tr>\n",
              "  </thead>\n",
              "  <tbody>\n",
              "    <tr>\n",
              "      <th>2302</th>\n",
              "      <td>2023</td>\n",
              "      <td>1</td>\n",
              "      <td>1446214</td>\n",
              "      <td>Ingenieria en Conectividad y Redes</td>\n",
              "      <td>D</td>\n",
              "      <td>21494846K</td>\n",
              "      <td>2023-1</td>\n",
              "      <td>Desertor</td>\n",
              "      <td>David Moises Briceno Tapia</td>\n",
              "      <td>Masculino</td>\n",
              "      <td>...</td>\n",
              "      <td>2023</td>\n",
              "      <td>2023-01-20</td>\n",
              "      <td>Inscrito</td>\n",
              "      <td>Particular Subvencionado</td>\n",
              "      <td>Cientifico Humanista</td>\n",
              "      <td>6.1</td>\n",
              "      <td>2021</td>\n",
              "      <td>San Pedro de la Paz</td>\n",
              "      <td>VIII - BIO-BIO</td>\n",
              "      <td>19</td>\n",
              "    </tr>\n",
              "  </tbody>\n",
              "</table>\n",
              "<p>1 rows × 22 columns</p>\n",
              "</div>\n",
              "    <div class=\"colab-df-buttons\">\n",
              "\n",
              "  <div class=\"colab-df-container\">\n",
              "    <button class=\"colab-df-convert\" onclick=\"convertToInteractive('df-4f1c329c-259a-4fa5-9ee2-00cb4c180af7')\"\n",
              "            title=\"Convert this dataframe to an interactive table.\"\n",
              "            style=\"display:none;\">\n",
              "\n",
              "  <svg xmlns=\"http://www.w3.org/2000/svg\" height=\"24px\" viewBox=\"0 -960 960 960\">\n",
              "    <path d=\"M120-120v-720h720v720H120Zm60-500h600v-160H180v160Zm220 220h160v-160H400v160Zm0 220h160v-160H400v160ZM180-400h160v-160H180v160Zm440 0h160v-160H620v160ZM180-180h160v-160H180v160Zm440 0h160v-160H620v160Z\"/>\n",
              "  </svg>\n",
              "    </button>\n",
              "\n",
              "  <style>\n",
              "    .colab-df-container {\n",
              "      display:flex;\n",
              "      gap: 12px;\n",
              "    }\n",
              "\n",
              "    .colab-df-convert {\n",
              "      background-color: #E8F0FE;\n",
              "      border: none;\n",
              "      border-radius: 50%;\n",
              "      cursor: pointer;\n",
              "      display: none;\n",
              "      fill: #1967D2;\n",
              "      height: 32px;\n",
              "      padding: 0 0 0 0;\n",
              "      width: 32px;\n",
              "    }\n",
              "\n",
              "    .colab-df-convert:hover {\n",
              "      background-color: #E2EBFA;\n",
              "      box-shadow: 0px 1px 2px rgba(60, 64, 67, 0.3), 0px 1px 3px 1px rgba(60, 64, 67, 0.15);\n",
              "      fill: #174EA6;\n",
              "    }\n",
              "\n",
              "    .colab-df-buttons div {\n",
              "      margin-bottom: 4px;\n",
              "    }\n",
              "\n",
              "    [theme=dark] .colab-df-convert {\n",
              "      background-color: #3B4455;\n",
              "      fill: #D2E3FC;\n",
              "    }\n",
              "\n",
              "    [theme=dark] .colab-df-convert:hover {\n",
              "      background-color: #434B5C;\n",
              "      box-shadow: 0px 1px 3px 1px rgba(0, 0, 0, 0.15);\n",
              "      filter: drop-shadow(0px 1px 2px rgba(0, 0, 0, 0.3));\n",
              "      fill: #FFFFFF;\n",
              "    }\n",
              "  </style>\n",
              "\n",
              "    <script>\n",
              "      const buttonEl =\n",
              "        document.querySelector('#df-4f1c329c-259a-4fa5-9ee2-00cb4c180af7 button.colab-df-convert');\n",
              "      buttonEl.style.display =\n",
              "        google.colab.kernel.accessAllowed ? 'block' : 'none';\n",
              "\n",
              "      async function convertToInteractive(key) {\n",
              "        const element = document.querySelector('#df-4f1c329c-259a-4fa5-9ee2-00cb4c180af7');\n",
              "        const dataTable =\n",
              "          await google.colab.kernel.invokeFunction('convertToInteractive',\n",
              "                                                    [key], {});\n",
              "        if (!dataTable) return;\n",
              "\n",
              "        const docLinkHtml = 'Like what you see? Visit the ' +\n",
              "          '<a target=\"_blank\" href=https://colab.research.google.com/notebooks/data_table.ipynb>data table notebook</a>'\n",
              "          + ' to learn more about interactive tables.';\n",
              "        element.innerHTML = '';\n",
              "        dataTable['output_type'] = 'display_data';\n",
              "        await google.colab.output.renderOutput(dataTable, element);\n",
              "        const docLink = document.createElement('div');\n",
              "        docLink.innerHTML = docLinkHtml;\n",
              "        element.appendChild(docLink);\n",
              "      }\n",
              "    </script>\n",
              "  </div>\n",
              "\n",
              "\n",
              "    </div>\n",
              "  </div>\n"
            ],
            "application/vnd.google.colaboratory.intrinsic+json": {
              "type": "dataframe"
            }
          },
          "metadata": {},
          "execution_count": 108
        }
      ]
    },
    {
      "cell_type": "code",
      "source": [
        "# Convertir ambas colecciones a conjuntos\n",
        "set_desertores = set(desertores.rut.unique())\n",
        "set_academico = set(data_academica.rut_alumno.unique())\n",
        "\n",
        "# Obtener los elementos que están en set_desertores pero no en set_indice\n",
        "diferencia = set_desertores - set_academico\n",
        "\n",
        "# Mostrar los resultados\n",
        "print(\"Elementos en desertores pero no en data académica:\")\n",
        "print(len(diferencia))"
      ],
      "metadata": {
        "colab": {
          "base_uri": "https://localhost:8080/"
        },
        "id": "y6CkrfEtpr5H",
        "outputId": "5eff76ed-fb4a-42dd-e6e8-6bee54ac6a65"
      },
      "execution_count": null,
      "outputs": [
        {
          "output_type": "stream",
          "name": "stdout",
          "text": [
            "Elementos en desertores pero no en data académica:\n",
            "4\n"
          ]
        }
      ]
    },
    {
      "cell_type": "code",
      "source": [
        "data_academica_modelo.rename(columns={'rut_alumno' : 'rut'}, inplace=True)"
      ],
      "metadata": {
        "id": "vVU0ymqds7Pt"
      },
      "execution_count": null,
      "outputs": []
    },
    {
      "cell_type": "code",
      "source": [
        "# Unir los DataFrames usando rut como clave\n",
        "data_modelo = pd.merge(data_indice, data_academica_modelo, on='rut', how='inner')\n",
        "data_modelo.info()"
      ],
      "metadata": {
        "colab": {
          "base_uri": "https://localhost:8080/"
        },
        "id": "epS985gQs37v",
        "outputId": "c670a859-e595-4a30-f99b-50f2e158088c"
      },
      "execution_count": null,
      "outputs": [
        {
          "output_type": "stream",
          "name": "stdout",
          "text": [
            "<class 'pandas.core.frame.DataFrame'>\n",
            "RangeIndex: 66973 entries, 0 to 66972\n",
            "Data columns (total 33 columns):\n",
            " #   Column                   Non-Null Count  Dtype         \n",
            "---  ------                   --------------  -----         \n",
            " 0   año                      66973 non-null  int64         \n",
            " 1   semestre                 66973 non-null  int64         \n",
            " 2   codigo_carrera           66973 non-null  int64         \n",
            " 3   nombre_carrera           66973 non-null  object        \n",
            " 4   jornada                  66973 non-null  object        \n",
            " 5   rut                      66973 non-null  object        \n",
            " 6   periodo_abandono         66973 non-null  object        \n",
            " 7   tipo_renuncia            66973 non-null  object        \n",
            " 8   nombres                  66973 non-null  object        \n",
            " 9   genero                   66973 non-null  object        \n",
            " 10  fecha_nacimiento         66973 non-null  datetime64[ns]\n",
            " 11  nacionalidad             66973 non-null  object        \n",
            " 12  año_ingreso              66973 non-null  int64         \n",
            " 13  fecha_matricula          66973 non-null  datetime64[ns]\n",
            " 14  condicion                66973 non-null  object        \n",
            " 15  tipo_colegio             66973 non-null  object        \n",
            " 16  tipo_estudio             66973 non-null  object        \n",
            " 17  prom_lem                 66973 non-null  float64       \n",
            " 18  egreso_em                66973 non-null  int64         \n",
            " 19  comuna                   66973 non-null  object        \n",
            " 20  region                   66973 non-null  object        \n",
            " 21  edad_ingreso             66973 non-null  int64         \n",
            " 22  ano_academico            66973 non-null  int64         \n",
            " 23  dom_semestre             66973 non-null  int64         \n",
            " 24  carrera_codigo_original  66973 non-null  int64         \n",
            " 25  carrera_codigo           66973 non-null  int64         \n",
            " 26  nombre_alumno            66973 non-null  object        \n",
            " 27  estado_final_ramo        66973 non-null  object        \n",
            " 28  c1                       66973 non-null  float64       \n",
            " 29  c2                       66973 non-null  float64       \n",
            " 30  c3                       66973 non-null  float64       \n",
            " 31  codigo_jornada_alumno    66973 non-null  int64         \n",
            " 32  nota_final               66973 non-null  float64       \n",
            "dtypes: datetime64[ns](2), float64(5), int64(11), object(15)\n",
            "memory usage: 16.9+ MB\n"
          ]
        }
      ]
    },
    {
      "cell_type": "code",
      "source": [
        "data_modelo.sample()"
      ],
      "metadata": {
        "colab": {
          "base_uri": "https://localhost:8080/",
          "height": 182
        },
        "id": "vbaaZbPDt6jJ",
        "outputId": "503a2e0b-b8a0-4e9c-b02b-e2d2707bbfa1"
      },
      "execution_count": null,
      "outputs": [
        {
          "output_type": "execute_result",
          "data": {
            "text/plain": [
              "       año  semestre  codigo_carrera             nombre_carrera jornada  \\\n",
              "4922  2021         2         1446102  Ingenieria en Informatica       D   \n",
              "\n",
              "            rut periodo_abandono tipo_renuncia                        nombres  \\\n",
              "4922  173482396        No aplica   No desertor  Daniel Alfonso Toledo Arratia   \n",
              "\n",
              "         genero  ... dom_semestre carrera_codigo_original  carrera_codigo  \\\n",
              "4922  Masculino  ...            1                     462             462   \n",
              "\n",
              "                       nombre_alumno estado_final_ramo   c1   c2   c3  \\\n",
              "4922  Toledo Arratia Daniel Alfonso                 AR  5.0  5.7  5.6   \n",
              "\n",
              "      codigo_jornada_alumno nota_final  \n",
              "4922                      0        5.5  \n",
              "\n",
              "[1 rows x 33 columns]"
            ],
            "text/html": [
              "\n",
              "  <div id=\"df-04301ded-9611-48a1-bbaa-462c00b0eb4b\" class=\"colab-df-container\">\n",
              "    <div>\n",
              "<style scoped>\n",
              "    .dataframe tbody tr th:only-of-type {\n",
              "        vertical-align: middle;\n",
              "    }\n",
              "\n",
              "    .dataframe tbody tr th {\n",
              "        vertical-align: top;\n",
              "    }\n",
              "\n",
              "    .dataframe thead th {\n",
              "        text-align: right;\n",
              "    }\n",
              "</style>\n",
              "<table border=\"1\" class=\"dataframe\">\n",
              "  <thead>\n",
              "    <tr style=\"text-align: right;\">\n",
              "      <th></th>\n",
              "      <th>año</th>\n",
              "      <th>semestre</th>\n",
              "      <th>codigo_carrera</th>\n",
              "      <th>nombre_carrera</th>\n",
              "      <th>jornada</th>\n",
              "      <th>rut</th>\n",
              "      <th>periodo_abandono</th>\n",
              "      <th>tipo_renuncia</th>\n",
              "      <th>nombres</th>\n",
              "      <th>genero</th>\n",
              "      <th>...</th>\n",
              "      <th>dom_semestre</th>\n",
              "      <th>carrera_codigo_original</th>\n",
              "      <th>carrera_codigo</th>\n",
              "      <th>nombre_alumno</th>\n",
              "      <th>estado_final_ramo</th>\n",
              "      <th>c1</th>\n",
              "      <th>c2</th>\n",
              "      <th>c3</th>\n",
              "      <th>codigo_jornada_alumno</th>\n",
              "      <th>nota_final</th>\n",
              "    </tr>\n",
              "  </thead>\n",
              "  <tbody>\n",
              "    <tr>\n",
              "      <th>4922</th>\n",
              "      <td>2021</td>\n",
              "      <td>2</td>\n",
              "      <td>1446102</td>\n",
              "      <td>Ingenieria en Informatica</td>\n",
              "      <td>D</td>\n",
              "      <td>173482396</td>\n",
              "      <td>No aplica</td>\n",
              "      <td>No desertor</td>\n",
              "      <td>Daniel Alfonso Toledo Arratia</td>\n",
              "      <td>Masculino</td>\n",
              "      <td>...</td>\n",
              "      <td>1</td>\n",
              "      <td>462</td>\n",
              "      <td>462</td>\n",
              "      <td>Toledo Arratia Daniel Alfonso</td>\n",
              "      <td>AR</td>\n",
              "      <td>5.0</td>\n",
              "      <td>5.7</td>\n",
              "      <td>5.6</td>\n",
              "      <td>0</td>\n",
              "      <td>5.5</td>\n",
              "    </tr>\n",
              "  </tbody>\n",
              "</table>\n",
              "<p>1 rows × 33 columns</p>\n",
              "</div>\n",
              "    <div class=\"colab-df-buttons\">\n",
              "\n",
              "  <div class=\"colab-df-container\">\n",
              "    <button class=\"colab-df-convert\" onclick=\"convertToInteractive('df-04301ded-9611-48a1-bbaa-462c00b0eb4b')\"\n",
              "            title=\"Convert this dataframe to an interactive table.\"\n",
              "            style=\"display:none;\">\n",
              "\n",
              "  <svg xmlns=\"http://www.w3.org/2000/svg\" height=\"24px\" viewBox=\"0 -960 960 960\">\n",
              "    <path d=\"M120-120v-720h720v720H120Zm60-500h600v-160H180v160Zm220 220h160v-160H400v160Zm0 220h160v-160H400v160ZM180-400h160v-160H180v160Zm440 0h160v-160H620v160ZM180-180h160v-160H180v160Zm440 0h160v-160H620v160Z\"/>\n",
              "  </svg>\n",
              "    </button>\n",
              "\n",
              "  <style>\n",
              "    .colab-df-container {\n",
              "      display:flex;\n",
              "      gap: 12px;\n",
              "    }\n",
              "\n",
              "    .colab-df-convert {\n",
              "      background-color: #E8F0FE;\n",
              "      border: none;\n",
              "      border-radius: 50%;\n",
              "      cursor: pointer;\n",
              "      display: none;\n",
              "      fill: #1967D2;\n",
              "      height: 32px;\n",
              "      padding: 0 0 0 0;\n",
              "      width: 32px;\n",
              "    }\n",
              "\n",
              "    .colab-df-convert:hover {\n",
              "      background-color: #E2EBFA;\n",
              "      box-shadow: 0px 1px 2px rgba(60, 64, 67, 0.3), 0px 1px 3px 1px rgba(60, 64, 67, 0.15);\n",
              "      fill: #174EA6;\n",
              "    }\n",
              "\n",
              "    .colab-df-buttons div {\n",
              "      margin-bottom: 4px;\n",
              "    }\n",
              "\n",
              "    [theme=dark] .colab-df-convert {\n",
              "      background-color: #3B4455;\n",
              "      fill: #D2E3FC;\n",
              "    }\n",
              "\n",
              "    [theme=dark] .colab-df-convert:hover {\n",
              "      background-color: #434B5C;\n",
              "      box-shadow: 0px 1px 3px 1px rgba(0, 0, 0, 0.15);\n",
              "      filter: drop-shadow(0px 1px 2px rgba(0, 0, 0, 0.3));\n",
              "      fill: #FFFFFF;\n",
              "    }\n",
              "  </style>\n",
              "\n",
              "    <script>\n",
              "      const buttonEl =\n",
              "        document.querySelector('#df-04301ded-9611-48a1-bbaa-462c00b0eb4b button.colab-df-convert');\n",
              "      buttonEl.style.display =\n",
              "        google.colab.kernel.accessAllowed ? 'block' : 'none';\n",
              "\n",
              "      async function convertToInteractive(key) {\n",
              "        const element = document.querySelector('#df-04301ded-9611-48a1-bbaa-462c00b0eb4b');\n",
              "        const dataTable =\n",
              "          await google.colab.kernel.invokeFunction('convertToInteractive',\n",
              "                                                    [key], {});\n",
              "        if (!dataTable) return;\n",
              "\n",
              "        const docLinkHtml = 'Like what you see? Visit the ' +\n",
              "          '<a target=\"_blank\" href=https://colab.research.google.com/notebooks/data_table.ipynb>data table notebook</a>'\n",
              "          + ' to learn more about interactive tables.';\n",
              "        element.innerHTML = '';\n",
              "        dataTable['output_type'] = 'display_data';\n",
              "        await google.colab.output.renderOutput(dataTable, element);\n",
              "        const docLink = document.createElement('div');\n",
              "        docLink.innerHTML = docLinkHtml;\n",
              "        element.appendChild(docLink);\n",
              "      }\n",
              "    </script>\n",
              "  </div>\n",
              "\n",
              "\n",
              "    </div>\n",
              "  </div>\n"
            ],
            "application/vnd.google.colaboratory.intrinsic+json": {
              "type": "dataframe"
            }
          },
          "metadata": {},
          "execution_count": 133
        }
      ]
    },
    {
      "cell_type": "code",
      "source": [
        "data_modelo['desertor'] = data_modelo['tipo_renuncia'].apply(lambda x: 1 if x in ['Desertor', 'Renuncia'] else 0)\n"
      ],
      "metadata": {
        "id": "tVNO8iMLuKNs"
      },
      "execution_count": null,
      "outputs": []
    },
    {
      "cell_type": "code",
      "source": [
        "# Gráfico de torta del porcentaje de cada clase\n",
        "clases = np.array([data_modelo[data_modelo.desertor == 0.0].shape[0],\n",
        "                   data_modelo[data_modelo.desertor == 1.0].shape[0]]\n",
        "                  )\n",
        "\n",
        "# Creando las leyendas del gráfico.\n",
        "labels = [ str(round(x * 1.0 / clases.sum() * 100.0, 2)) + '%'  for x in clases ]\n",
        "labels[0] = 'No desertor\\n ' + labels[0]\n",
        "labels[1] = 'Desertor\\n ' + labels[1]\n",
        "\n",
        "plt.pie(clases, labels=labels)\n",
        "plt.title('Porcentaje de cada clase', fontsize=18, fontweight=\"bold\")\n",
        "plt.show()"
      ],
      "metadata": {
        "colab": {
          "base_uri": "https://localhost:8080/",
          "height": 433
        },
        "id": "RfxThHlutfi6",
        "outputId": "457f065d-9b94-42be-c6b1-2f3ee803cee2"
      },
      "execution_count": null,
      "outputs": [
        {
          "output_type": "display_data",
          "data": {
            "text/plain": [
              "<Figure size 640x480 with 1 Axes>"
            ],
            "image/png": "[encoded data removed]"
          },
          "metadata": {}
        }
      ]
    },
    {
      "cell_type": "code",
      "source": [
        "data_modelo.columns"
      ],
      "metadata": {
        "colab": {
          "base_uri": "https://localhost:8080/"
        },
        "id": "xc8jWdNIusZ8",
        "outputId": "978bfec5-5fb0-4831-dea8-f3a204d81136"
      },
      "execution_count": null,
      "outputs": [
        {
          "output_type": "execute_result",
          "data": {
            "text/plain": [
              "Index(['año', 'semestre', 'codigo_carrera', 'nombre_carrera', 'jornada', 'rut',\n",
              "       'periodo_abandono', 'tipo_renuncia', 'nombres', 'genero',\n",
              "       'fecha_nacimiento', 'nacionalidad', 'año_ingreso', 'fecha_matricula',\n",
              "       'condicion', 'tipo_colegio', 'tipo_estudio', 'prom_lem', 'egreso_em',\n",
              "       'comuna', 'region', 'edad_ingreso', 'ano_academico', 'dom_semestre',\n",
              "       'carrera_codigo_original', 'carrera_codigo', 'nombre_alumno',\n",
              "       'estado_final_ramo', 'c1', 'c2', 'c3', 'codigo_jornada_alumno',\n",
              "       'nota_final', 'desertor'],\n",
              "      dtype='object')"
            ]
          },
          "metadata": {},
          "execution_count": 135
        }
      ]
    },
    {
      "cell_type": "code",
      "source": [
        "data_modelo = data_modelo.drop(['comuna', 'condicion', 'nacionalidad',\n",
        "                                'codigo_carrera','nombre_carrera', 'jornada', 'periodo_abandono',\n",
        "                                'nombres', 'genero', 'fecha_matricula', 'carrera_codigo_original',\n",
        "                                'carrera_codigo', 'nombre_alumno', 'estado_final_ramo',\n",
        "                                'codigo_jornada_alumno','nota_final',\n",
        "                                'tipo_renuncia', 'año', 'semestre', 'ano_academico', 'dom_semestre',\n",
        "                                'rut','tipo_estudio', 'estado_final_ramo', 'fecha_nacimiento'], axis=1)"
      ],
      "metadata": {
        "id": "QyM1XkkGuqq7"
      },
      "execution_count": null,
      "outputs": []
    },
    {
      "cell_type": "code",
      "source": [
        "data_modelo.columns"
      ],
      "metadata": {
        "colab": {
          "base_uri": "https://localhost:8080/"
        },
        "id": "HKBbzBWDxXxh",
        "outputId": "2f822464-b193-4eb5-adb0-c94a8eb5c15b"
      },
      "execution_count": null,
      "outputs": [
        {
          "output_type": "execute_result",
          "data": {
            "text/plain": [
              "Index(['año_ingreso', 'tipo_colegio', 'prom_lem', 'egreso_em', 'region',\n",
              "       'edad_ingreso', 'c1', 'c2', 'c3', 'desertor'],\n",
              "      dtype='object')"
            ]
          },
          "metadata": {},
          "execution_count": 175
        }
      ]
    },
    {
      "cell_type": "code",
      "source": [
        "encoder = LabelEncoder()\n",
        "for feature in ['region', 'tipo_colegio']:\n",
        "  data_modelo[feature] = encoder.fit_transform(data_modelo[feature])\n",
        "data_modelo.sample()"
      ],
      "metadata": {
        "colab": {
          "base_uri": "https://localhost:8080/",
          "height": 81
        },
        "id": "29KUhDu7vU7d",
        "outputId": "1ff8fe99-0b2e-423b-d3ca-b031feb4317b"
      },
      "execution_count": null,
      "outputs": [
        {
          "output_type": "execute_result",
          "data": {
            "text/plain": [
              "       año_ingreso  tipo_colegio  prom_lem  egreso_em  region  edad_ingreso  \\\n",
              "22339         2021             0       5.6       2019       6            19   \n",
              "\n",
              "        c1   c2   c3  desertor  \n",
              "22339  3.9  5.3  5.5         0  "
            ],
            "text/html": [
              "\n",
              "  <div id=\"df-1512b659-48fc-41e1-91d5-63988d93831a\" class=\"colab-df-container\">\n",
              "    <div>\n",
              "<style scoped>\n",
              "    .dataframe tbody tr th:only-of-type {\n",
              "        vertical-align: middle;\n",
              "    }\n",
              "\n",
              "    .dataframe tbody tr th {\n",
              "        vertical-align: top;\n",
              "    }\n",
              "\n",
              "    .dataframe thead th {\n",
              "        text-align: right;\n",
              "    }\n",
              "</style>\n",
              "<table border=\"1\" class=\"dataframe\">\n",
              "  <thead>\n",
              "    <tr style=\"text-align: right;\">\n",
              "      <th></th>\n",
              "      <th>año_ingreso</th>\n",
              "      <th>tipo_colegio</th>\n",
              "      <th>prom_lem</th>\n",
              "      <th>egreso_em</th>\n",
              "      <th>region</th>\n",
              "      <th>edad_ingreso</th>\n",
              "      <th>c1</th>\n",
              "      <th>c2</th>\n",
              "      <th>c3</th>\n",
              "      <th>desertor</th>\n",
              "    </tr>\n",
              "  </thead>\n",
              "  <tbody>\n",
              "    <tr>\n",
              "      <th>22339</th>\n",
              "      <td>2021</td>\n",
              "      <td>0</td>\n",
              "      <td>5.6</td>\n",
              "      <td>2019</td>\n",
              "      <td>6</td>\n",
              "      <td>19</td>\n",
              "      <td>3.9</td>\n",
              "      <td>5.3</td>\n",
              "      <td>5.5</td>\n",
              "      <td>0</td>\n",
              "    </tr>\n",
              "  </tbody>\n",
              "</table>\n",
              "</div>\n",
              "    <div class=\"colab-df-buttons\">\n",
              "\n",
              "  <div class=\"colab-df-container\">\n",
              "    <button class=\"colab-df-convert\" onclick=\"convertToInteractive('df-1512b659-48fc-41e1-91d5-63988d93831a')\"\n",
              "            title=\"Convert this dataframe to an interactive table.\"\n",
              "            style=\"display:none;\">\n",
              "\n",
              "  <svg xmlns=\"http://www.w3.org/2000/svg\" height=\"24px\" viewBox=\"0 -960 960 960\">\n",
              "    <path d=\"M120-120v-720h720v720H120Zm60-500h600v-160H180v160Zm220 220h160v-160H400v160Zm0 220h160v-160H400v160ZM180-400h160v-160H180v160Zm440 0h160v-160H620v160ZM180-180h160v-160H180v160Zm440 0h160v-160H620v160Z\"/>\n",
              "  </svg>\n",
              "    </button>\n",
              "\n",
              "  <style>\n",
              "    .colab-df-container {\n",
              "      display:flex;\n",
              "      gap: 12px;\n",
              "    }\n",
              "\n",
              "    .colab-df-convert {\n",
              "      background-color: #E8F0FE;\n",
              "      border: none;\n",
              "      border-radius: 50%;\n",
              "      cursor: pointer;\n",
              "      display: none;\n",
              "      fill: #1967D2;\n",
              "      height: 32px;\n",
              "      padding: 0 0 0 0;\n",
              "      width: 32px;\n",
              "    }\n",
              "\n",
              "    .colab-df-convert:hover {\n",
              "      background-color: #E2EBFA;\n",
              "      box-shadow: 0px 1px 2px rgba(60, 64, 67, 0.3), 0px 1px 3px 1px rgba(60, 64, 67, 0.15);\n",
              "      fill: #174EA6;\n",
              "    }\n",
              "\n",
              "    .colab-df-buttons div {\n",
              "      margin-bottom: 4px;\n",
              "    }\n",
              "\n",
              "    [theme=dark] .colab-df-convert {\n",
              "      background-color: #3B4455;\n",
              "      fill: #D2E3FC;\n",
              "    }\n",
              "\n",
              "    [theme=dark] .colab-df-convert:hover {\n",
              "      background-color: #434B5C;\n",
              "      box-shadow: 0px 1px 3px 1px rgba(0, 0, 0, 0.15);\n",
              "      filter: drop-shadow(0px 1px 2px rgba(0, 0, 0, 0.3));\n",
              "      fill: #FFFFFF;\n",
              "    }\n",
              "  </style>\n",
              "\n",
              "    <script>\n",
              "      const buttonEl =\n",
              "        document.querySelector('#df-1512b659-48fc-41e1-91d5-63988d93831a button.colab-df-convert');\n",
              "      buttonEl.style.display =\n",
              "        google.colab.kernel.accessAllowed ? 'block' : 'none';\n",
              "\n",
              "      async function convertToInteractive(key) {\n",
              "        const element = document.querySelector('#df-1512b659-48fc-41e1-91d5-63988d93831a');\n",
              "        const dataTable =\n",
              "          await google.colab.kernel.invokeFunction('convertToInteractive',\n",
              "                                                    [key], {});\n",
              "        if (!dataTable) return;\n",
              "\n",
              "        const docLinkHtml = 'Like what you see? Visit the ' +\n",
              "          '<a target=\"_blank\" href=https://colab.research.google.com/notebooks/data_table.ipynb>data table notebook</a>'\n",
              "          + ' to learn more about interactive tables.';\n",
              "        element.innerHTML = '';\n",
              "        dataTable['output_type'] = 'display_data';\n",
              "        await google.colab.output.renderOutput(dataTable, element);\n",
              "        const docLink = document.createElement('div');\n",
              "        docLink.innerHTML = docLinkHtml;\n",
              "        element.appendChild(docLink);\n",
              "      }\n",
              "    </script>\n",
              "  </div>\n",
              "\n",
              "\n",
              "    </div>\n",
              "  </div>\n"
            ],
            "application/vnd.google.colaboratory.intrinsic+json": {
              "type": "dataframe",
              "summary": "{\n  \"name\": \"data_modelo\",\n  \"rows\": 1,\n  \"fields\": [\n    {\n      \"column\": \"a\\u00f1o_ingreso\",\n      \"properties\": {\n        \"dtype\": \"number\",\n        \"std\": null,\n        \"min\": 2021,\n        \"max\": 2021,\n        \"num_unique_values\": 1,\n        \"samples\": [\n          2021\n        ],\n        \"semantic_type\": \"\",\n        \"description\": \"\"\n      }\n    },\n    {\n      \"column\": \"tipo_colegio\",\n      \"properties\": {\n        \"dtype\": \"number\",\n        \"std\": null,\n        \"min\": 0,\n        \"max\": 0,\n        \"num_unique_values\": 1,\n        \"samples\": [\n          0\n        ],\n        \"semantic_type\": \"\",\n        \"description\": \"\"\n      }\n    },\n    {\n      \"column\": \"prom_lem\",\n      \"properties\": {\n        \"dtype\": \"number\",\n        \"std\": null,\n        \"min\": 5.6,\n        \"max\": 5.6,\n        \"num_unique_values\": 1,\n        \"samples\": [\n          5.6\n        ],\n        \"semantic_type\": \"\",\n        \"description\": \"\"\n      }\n    },\n    {\n      \"column\": \"egreso_em\",\n      \"properties\": {\n        \"dtype\": \"number\",\n        \"std\": null,\n        \"min\": 2019,\n        \"max\": 2019,\n        \"num_unique_values\": 1,\n        \"samples\": [\n          2019\n        ],\n        \"semantic_type\": \"\",\n        \"description\": \"\"\n      }\n    },\n    {\n      \"column\": \"region\",\n      \"properties\": {\n        \"dtype\": \"number\",\n        \"std\": null,\n        \"min\": 6,\n        \"max\": 6,\n        \"num_unique_values\": 1,\n        \"samples\": [\n          6\n        ],\n        \"semantic_type\": \"\",\n        \"description\": \"\"\n      }\n    },\n    {\n      \"column\": \"edad_ingreso\",\n      \"properties\": {\n        \"dtype\": \"number\",\n        \"std\": null,\n        \"min\": 19,\n        \"max\": 19,\n        \"num_unique_values\": 1,\n        \"samples\": [\n          19\n        ],\n        \"semantic_type\": \"\",\n        \"description\": \"\"\n      }\n    },\n    {\n      \"column\": \"c1\",\n      \"properties\": {\n        \"dtype\": \"number\",\n        \"std\": null,\n        \"min\": 3.9,\n        \"max\": 3.9,\n        \"num_unique_values\": 1,\n        \"samples\": [\n          3.9\n        ],\n        \"semantic_type\": \"\",\n        \"description\": \"\"\n      }\n    },\n    {\n      \"column\": \"c2\",\n      \"properties\": {\n        \"dtype\": \"number\",\n        \"std\": null,\n        \"min\": 5.3,\n        \"max\": 5.3,\n        \"num_unique_values\": 1,\n        \"samples\": [\n          5.3\n        ],\n        \"semantic_type\": \"\",\n        \"description\": \"\"\n      }\n    },\n    {\n      \"column\": \"c3\",\n      \"properties\": {\n        \"dtype\": \"number\",\n        \"std\": null,\n        \"min\": 5.5,\n        \"max\": 5.5,\n        \"num_unique_values\": 1,\n        \"samples\": [\n          5.5\n        ],\n        \"semantic_type\": \"\",\n        \"description\": \"\"\n      }\n    },\n    {\n      \"column\": \"desertor\",\n      \"properties\": {\n        \"dtype\": \"number\",\n        \"std\": null,\n        \"min\": 0,\n        \"max\": 0,\n        \"num_unique_values\": 1,\n        \"samples\": [\n          0\n        ],\n        \"semantic_type\": \"\",\n        \"description\": \"\"\n      }\n    }\n  ]\n}"
            }
          },
          "metadata": {},
          "execution_count": 176
        }
      ]
    },
    {
      "cell_type": "markdown",
      "source": [
        "# Modelamiento"
      ],
      "metadata": {
        "id": "--4-XQjVz6Ei"
      }
    },
    {
      "cell_type": "code",
      "source": [
        "target_names = ['No deserta', 'Deserta']"
      ],
      "metadata": {
        "id": "z4UKLKAzwAZb"
      },
      "execution_count": null,
      "outputs": []
    },
    {
      "cell_type": "code",
      "source": [
        "# Determina los datos con los cuales se trabajará\n",
        "features = data_modelo.drop(columns = ['desertor']).columns\n",
        "X = data_modelo[features]\n",
        "y = data_modelo.desertor"
      ],
      "metadata": {
        "id": "DUNbPPmOwj7g"
      },
      "execution_count": null,
      "outputs": []
    },
    {
      "cell_type": "code",
      "source": [
        "# Modelos base\n",
        "models = {\n",
        "    'Logistic Regression': LogisticRegression(max_iter=4000, class_weight=\"balanced\"),\n",
        "    'Decision Tree Classifier': DecisionTreeClassifier(random_state=29, class_weight=\"balanced\"),\n",
        "    'Random Forest': RandomForestClassifier(random_state=29, class_weight=\"balanced\")\n",
        "}\n",
        "\n",
        "# Hiperparámetros a probar\n",
        "param_grid = {\n",
        "    'Logistic Regression': {\n",
        "        'C': [0.01, 0.1, 1, 10, 100],\n",
        "        'solver': ['lbfgs', 'liblinear']\n",
        "    },\n",
        "    'Decision Tree Classifier': {\n",
        "        'max_depth': [3, 5, 10, None],\n",
        "        'criterion': ['gini', 'entropy'],\n",
        "        'splitter': ['best', 'random']\n",
        "    },\n",
        "    'Random Forest': {\n",
        "        'n_estimators': [50, 100, 200],\n",
        "        'max_depth': [3, 5, 10, None],\n",
        "        'criterion': ['gini', 'entropy']\n",
        "    }\n",
        "}"
      ],
      "metadata": {
        "id": "83Lf2qjHwGqf"
      },
      "execution_count": null,
      "outputs": []
    },
    {
      "cell_type": "code",
      "source": [
        "def obtiene_mejores_parametros(X_train, y_train, models, metrica : str = \"balanced_accuracy\"):\n",
        "  \"\"\"\n",
        "\n",
        "  Args:\n",
        "    X_train: data de entrenamiento\n",
        "    y_train: etiquetas\n",
        "    models: modelos a probar\n",
        "    metrica: nombre de la mética a usar\n",
        "\n",
        "  Returns: dos diccionarios: mejores parámetros y mejores scores\n",
        "\n",
        "  \"\"\"\n",
        "  # Resultados\n",
        "  best_params = {}\n",
        "  best_scores = {}\n",
        "\n",
        "  # Iterar sobre los modelos y sus hiperparámetros\n",
        "  for model_name, model in models.items():\n",
        "    print(f\"Optimizando {model_name} usando {metrica}...\")\n",
        "    grid = GridSearchCV(model, param_grid[model_name], cv=5, scoring=metrica, n_jobs=-1)\n",
        "    grid.fit(X_train, y_train)\n",
        "    best_params[model_name] = grid.best_params_\n",
        "    best_scores[model_name] = grid.best_score_\n",
        "    print(f\"Mejores parametros para {model_name}: {grid.best_params_}\")\n",
        "    print(f\"Mejor cross-validated {metrica} para {model_name}: {grid.best_score_:.4f}\\n\")\n",
        "\n",
        "  # Mostrar los mejores resultados\n",
        "  print(\"Resumen de mejores modelos:\")\n",
        "  for model_name in best_params:\n",
        "    print(f\"{model_name}:\")\n",
        "    print(f\"  Mejores Parámetros: {best_params[model_name]}\")\n",
        "    print(f\"  Mejor CV {metrica}: {best_scores[model_name]:.4f}\")\n",
        "\n",
        "  return best_params, best_scores\n",
        "\n",
        "def ver_matriz(matriz_x: np.array, target_names: np.array,\n",
        "                     ax, title=\"Matriz de confusión\") -> None:\n",
        "    \"\"\"Visualiza una matriz de confusión en un subplot en el ax indicado \"\"\"\n",
        "    clases = target_names\n",
        "    group_counts = [\"{0:0.0f}\".format(value) for value in matriz_x.flatten()]\n",
        "    group_percentages = [\"{0:.2%}\".format(value) for value in matriz_x.flatten() / matriz_x.sum()]\n",
        "    labels = [f\"{v1}\\n{v2}\" for v1, v2 in zip(group_counts, group_percentages)]\n",
        "    labels = np.asarray(labels).reshape(len(target_names), len(target_names))\n",
        "\n",
        "    sns.heatmap(matriz_x, annot=labels, fmt='', cmap='Blues',\n",
        "                xticklabels=clases, yticklabels=clases, ax=ax)\n",
        "\n",
        "    ax.set_title(title, fontsize=12, fontweight=\"bold\")\n",
        "    ax.set_xlabel(\"PREDICCIÓN\", fontsize=10)\n",
        "    ax.set_ylabel(\"REAL\", fontsize=10)\n",
        "\n",
        "def metrics_by_matrix(matriz : np.ndarray):\n",
        "    \"\"\" Retorna las métricas de clasificación desde la matriz de confusión \"\"\"\n",
        "    tn, fp, fn, tp = matriz.ravel()\n",
        "    accuracy_manual = (tn+tp)/(tn+fp+fn+tp)\n",
        "    precision_manual = tp/(tp+fp)\n",
        "    recall_manual = tp/(tp+fn)\n",
        "    f1_score_manual = 2*(precision_manual*recall_manual/(precision_manual + recall_manual))\n",
        "    return accuracy_manual, precision_manual, recall_manual, f1_score_manual\n",
        "\n",
        "def get_auc(real, prediccion):\n",
        "    \"\"\" Retorna AUC, TPR y FPR \"\"\"\n",
        "    fpr, tpr, thresholds = roc_curve(real, prediccion)\n",
        "    return auc(fpr, tpr), tpr, fpr, thresholds\n",
        "\n",
        "def false_positive_rate(cm):\n",
        "    \"\"\"Recibe una matriz de confusión y retorna la métrica de False Positive Rate\"\"\"\n",
        "    tn, fp, fn, tp = cm.ravel()\n",
        "    return fp / (fp + tn)\n",
        "\n",
        "def interpretaciones(recall_value : float, precision_value : float, accuracy_value : float, positive_text : str):\n",
        "  \"\"\"\n",
        "  Se ofrecen interpretaciones menos genéricas y más orientadas al negocio de las métricas, se omite f1-score porque es una combinación de precision y recall\n",
        "  \"\"\"\n",
        "  recall_interpretacion = f\"Se han identificado el {recall_value*100:.2f}% de estudiantes {positive_text}\"\n",
        "  precision_interpretacion = f\"Se han identificado un {precision_value*100:.2f}% de estudiantes {positive_text} y que realmente lo son\"\n",
        "  accuracy_interpretacion = f\"El modelo acierta con un {accuracy_value*100:.2f}% de efectividad la deserción\"\n",
        "  return recall_interpretacion, precision_interpretacion, accuracy_interpretacion"
      ],
      "metadata": {
        "id": "3m8yBOaJwNor"
      },
      "execution_count": null,
      "outputs": []
    },
    {
      "cell_type": "code",
      "source": [
        "# Separación en data de entrenamiento y test\n",
        "X_train, X_test, y_train, y_test = train_test_split(X, y, test_size=0.2, random_state=29,\n",
        "                                                    shuffle=True, stratify = y)"
      ],
      "metadata": {
        "id": "0uHY53iYx9Zq"
      },
      "execution_count": null,
      "outputs": []
    },
    {
      "cell_type": "code",
      "source": [
        "best_params_accuracy, best_scores_accuracy = obtiene_mejores_parametros(X_train, y_train, models)\n",
        "print(best_params_accuracy)\n",
        "print(best_scores_accuracy)"
      ],
      "metadata": {
        "colab": {
          "base_uri": "https://localhost:8080/",
          "height": 339
        },
        "id": "5SWCKfUUyEys",
        "outputId": "f64a4295-0c45-483b-c53b-9b4004af0f1b"
      },
      "execution_count": null,
      "outputs": [
        {
          "output_type": "stream",
          "name": "stdout",
          "text": [
            "Optimizando Logistic Regression usando balanced_accuracy...\n"
          ]
        },
        {
          "output_type": "error",
          "ename": "KeyboardInterrupt",
          "evalue": "",
          "traceback": [
            "\u001b[0;31m---------------------------------------------------------------------------\u001b[0m",
            "\u001b[0;31mKeyboardInterrupt\u001b[0m                         Traceback (most recent call last)",
            "\u001b[0;32m<ipython-input-182-caa24129101c>\u001b[0m in \u001b[0;36m<cell line: 1>\u001b[0;34m()\u001b[0m\n\u001b[0;32m----> 1\u001b[0;31m \u001b[0mbest_params_accuracy\u001b[0m\u001b[0;34m,\u001b[0m \u001b[0mbest_scores_accuracy\u001b[0m \u001b[0;34m=\u001b[0m \u001b[0mobtiene_mejores_parametros\u001b[0m\u001b[0;34m(\u001b[0m\u001b[0mX_train\u001b[0m\u001b[0;34m,\u001b[0m \u001b[0my_train\u001b[0m\u001b[0;34m,\u001b[0m \u001b[0mmodels\u001b[0m\u001b[0;34m)\u001b[0m\u001b[0;34m\u001b[0m\u001b[0;34m\u001b[0m\u001b[0m\n\u001b[0m\u001b[1;32m      2\u001b[0m \u001b[0mprint\u001b[0m\u001b[0;34m(\u001b[0m\u001b[0mbest_params_accuracy\u001b[0m\u001b[0;34m)\u001b[0m\u001b[0;34m\u001b[0m\u001b[0;34m\u001b[0m\u001b[0m\n\u001b[1;32m      3\u001b[0m \u001b[0mprint\u001b[0m\u001b[0;34m(\u001b[0m\u001b[0mbest_scores_accuracy\u001b[0m\u001b[0;34m)\u001b[0m\u001b[0;34m\u001b[0m\u001b[0;34m\u001b[0m\u001b[0m\n",
            "\u001b[0;32m<ipython-input-180-52582276eb77>\u001b[0m in \u001b[0;36mobtiene_mejores_parametros\u001b[0;34m(X_train, y_train, models, metrica)\u001b[0m\n\u001b[1;32m     19\u001b[0m     \u001b[0mprint\u001b[0m\u001b[0;34m(\u001b[0m\u001b[0;34mf\"Optimizando {model_name} usando {metrica}...\"\u001b[0m\u001b[0;34m)\u001b[0m\u001b[0;34m\u001b[0m\u001b[0;34m\u001b[0m\u001b[0m\n\u001b[1;32m     20\u001b[0m     \u001b[0mgrid\u001b[0m \u001b[0;34m=\u001b[0m \u001b[0mGridSearchCV\u001b[0m\u001b[0;34m(\u001b[0m\u001b[0mmodel\u001b[0m\u001b[0;34m,\u001b[0m \u001b[0mparam_grid\u001b[0m\u001b[0;34m[\u001b[0m\u001b[0mmodel_name\u001b[0m\u001b[0;34m]\u001b[0m\u001b[0;34m,\u001b[0m \u001b[0mcv\u001b[0m\u001b[0;34m=\u001b[0m\u001b[0;36m5\u001b[0m\u001b[0;34m,\u001b[0m \u001b[0mscoring\u001b[0m\u001b[0;34m=\u001b[0m\u001b[0mmetrica\u001b[0m\u001b[0;34m,\u001b[0m \u001b[0mn_jobs\u001b[0m\u001b[0;34m=\u001b[0m\u001b[0;34m-\u001b[0m\u001b[0;36m1\u001b[0m\u001b[0;34m)\u001b[0m\u001b[0;34m\u001b[0m\u001b[0;34m\u001b[0m\u001b[0m\n\u001b[0;32m---> 21\u001b[0;31m     \u001b[0mgrid\u001b[0m\u001b[0;34m.\u001b[0m\u001b[0mfit\u001b[0m\u001b[0;34m(\u001b[0m\u001b[0mX_train\u001b[0m\u001b[0;34m,\u001b[0m \u001b[0my_train\u001b[0m\u001b[0;34m)\u001b[0m\u001b[0;34m\u001b[0m\u001b[0;34m\u001b[0m\u001b[0m\n\u001b[0m\u001b[1;32m     22\u001b[0m     \u001b[0mbest_params\u001b[0m\u001b[0;34m[\u001b[0m\u001b[0mmodel_name\u001b[0m\u001b[0;34m]\u001b[0m \u001b[0;34m=\u001b[0m \u001b[0mgrid\u001b[0m\u001b[0;34m.\u001b[0m\u001b[0mbest_params_\u001b[0m\u001b[0;34m\u001b[0m\u001b[0;34m\u001b[0m\u001b[0m\n\u001b[1;32m     23\u001b[0m     \u001b[0mbest_scores\u001b[0m\u001b[0;34m[\u001b[0m\u001b[0mmodel_name\u001b[0m\u001b[0;34m]\u001b[0m \u001b[0;34m=\u001b[0m \u001b[0mgrid\u001b[0m\u001b[0;34m.\u001b[0m\u001b[0mbest_score_\u001b[0m\u001b[0;34m\u001b[0m\u001b[0;34m\u001b[0m\u001b[0m\n",
            "\u001b[0;32m/usr/local/lib/python3.10/dist-packages/sklearn/base.py\u001b[0m in \u001b[0;36mwrapper\u001b[0;34m(estimator, *args, **kwargs)\u001b[0m\n\u001b[1;32m   1471\u001b[0m                 )\n\u001b[1;32m   1472\u001b[0m             ):\n\u001b[0;32m-> 1473\u001b[0;31m                 \u001b[0;32mreturn\u001b[0m \u001b[0mfit_method\u001b[0m\u001b[0;34m(\u001b[0m\u001b[0mestimator\u001b[0m\u001b[0;34m,\u001b[0m \u001b[0;34m*\u001b[0m\u001b[0margs\u001b[0m\u001b[0;34m,\u001b[0m \u001b[0;34m**\u001b[0m\u001b[0mkwargs\u001b[0m\u001b[0;34m)\u001b[0m\u001b[0;34m\u001b[0m\u001b[0;34m\u001b[0m\u001b[0m\n\u001b[0m\u001b[1;32m   1474\u001b[0m \u001b[0;34m\u001b[0m\u001b[0m\n\u001b[1;32m   1475\u001b[0m         \u001b[0;32mreturn\u001b[0m \u001b[0mwrapper\u001b[0m\u001b[0;34m\u001b[0m\u001b[0;34m\u001b[0m\u001b[0m\n",
            "\u001b[0;32m/usr/local/lib/python3.10/dist-packages/sklearn/model_selection/_search.py\u001b[0m in \u001b[0;36mfit\u001b[0;34m(self, X, y, **params)\u001b[0m\n\u001b[1;32m   1017\u001b[0m                 \u001b[0;32mreturn\u001b[0m \u001b[0mresults\u001b[0m\u001b[0;34m\u001b[0m\u001b[0;34m\u001b[0m\u001b[0m\n\u001b[1;32m   1018\u001b[0m \u001b[0;34m\u001b[0m\u001b[0m\n\u001b[0;32m-> 1019\u001b[0;31m             \u001b[0mself\u001b[0m\u001b[0;34m.\u001b[0m\u001b[0m_run_search\u001b[0m\u001b[0;34m(\u001b[0m\u001b[0mevaluate_candidates\u001b[0m\u001b[0;34m)\u001b[0m\u001b[0;34m\u001b[0m\u001b[0;34m\u001b[0m\u001b[0m\n\u001b[0m\u001b[1;32m   1020\u001b[0m \u001b[0;34m\u001b[0m\u001b[0m\n\u001b[1;32m   1021\u001b[0m             \u001b[0;31m# multimetric is determined here because in the case of a callable\u001b[0m\u001b[0;34m\u001b[0m\u001b[0;34m\u001b[0m\u001b[0m\n",
            "\u001b[0;32m/usr/local/lib/python3.10/dist-packages/sklearn/model_selection/_search.py\u001b[0m in \u001b[0;36m_run_search\u001b[0;34m(self, evaluate_candidates)\u001b[0m\n\u001b[1;32m   1571\u001b[0m     \u001b[0;32mdef\u001b[0m \u001b[0m_run_search\u001b[0m\u001b[0;34m(\u001b[0m\u001b[0mself\u001b[0m\u001b[0;34m,\u001b[0m \u001b[0mevaluate_candidates\u001b[0m\u001b[0;34m)\u001b[0m\u001b[0;34m:\u001b[0m\u001b[0;34m\u001b[0m\u001b[0;34m\u001b[0m\u001b[0m\n\u001b[1;32m   1572\u001b[0m         \u001b[0;34m\"\"\"Search all candidates in param_grid\"\"\"\u001b[0m\u001b[0;34m\u001b[0m\u001b[0;34m\u001b[0m\u001b[0m\n\u001b[0;32m-> 1573\u001b[0;31m         \u001b[0mevaluate_candidates\u001b[0m\u001b[0;34m(\u001b[0m\u001b[0mParameterGrid\u001b[0m\u001b[0;34m(\u001b[0m\u001b[0mself\u001b[0m\u001b[0;34m.\u001b[0m\u001b[0mparam_grid\u001b[0m\u001b[0;34m)\u001b[0m\u001b[0;34m)\u001b[0m\u001b[0;34m\u001b[0m\u001b[0;34m\u001b[0m\u001b[0m\n\u001b[0m\u001b[1;32m   1574\u001b[0m \u001b[0;34m\u001b[0m\u001b[0m\n\u001b[1;32m   1575\u001b[0m \u001b[0;34m\u001b[0m\u001b[0m\n",
            "\u001b[0;32m/usr/local/lib/python3.10/dist-packages/sklearn/model_selection/_search.py\u001b[0m in \u001b[0;36mevaluate_candidates\u001b[0;34m(candidate_params, cv, more_results)\u001b[0m\n\u001b[1;32m    963\u001b[0m                     )\n\u001b[1;32m    964\u001b[0m \u001b[0;34m\u001b[0m\u001b[0m\n\u001b[0;32m--> 965\u001b[0;31m                 out = parallel(\n\u001b[0m\u001b[1;32m    966\u001b[0m                     delayed(_fit_and_score)(\n\u001b[1;32m    967\u001b[0m                         \u001b[0mclone\u001b[0m\u001b[0;34m(\u001b[0m\u001b[0mbase_estimator\u001b[0m\u001b[0;34m)\u001b[0m\u001b[0;34m,\u001b[0m\u001b[0;34m\u001b[0m\u001b[0;34m\u001b[0m\u001b[0m\n",
            "\u001b[0;32m/usr/local/lib/python3.10/dist-packages/sklearn/utils/parallel.py\u001b[0m in \u001b[0;36m__call__\u001b[0;34m(self, iterable)\u001b[0m\n\u001b[1;32m     72\u001b[0m             \u001b[0;32mfor\u001b[0m \u001b[0mdelayed_func\u001b[0m\u001b[0;34m,\u001b[0m \u001b[0margs\u001b[0m\u001b[0;34m,\u001b[0m \u001b[0mkwargs\u001b[0m \u001b[0;32min\u001b[0m \u001b[0miterable\u001b[0m\u001b[0;34m\u001b[0m\u001b[0;34m\u001b[0m\u001b[0m\n\u001b[1;32m     73\u001b[0m         )\n\u001b[0;32m---> 74\u001b[0;31m         \u001b[0;32mreturn\u001b[0m \u001b[0msuper\u001b[0m\u001b[0;34m(\u001b[0m\u001b[0;34m)\u001b[0m\u001b[0;34m.\u001b[0m\u001b[0m__call__\u001b[0m\u001b[0;34m(\u001b[0m\u001b[0miterable_with_config\u001b[0m\u001b[0;34m)\u001b[0m\u001b[0;34m\u001b[0m\u001b[0;34m\u001b[0m\u001b[0m\n\u001b[0m\u001b[1;32m     75\u001b[0m \u001b[0;34m\u001b[0m\u001b[0m\n\u001b[1;32m     76\u001b[0m \u001b[0;34m\u001b[0m\u001b[0m\n",
            "\u001b[0;32m/usr/local/lib/python3.10/dist-packages/joblib/parallel.py\u001b[0m in \u001b[0;36m__call__\u001b[0;34m(self, iterable)\u001b[0m\n\u001b[1;32m   2005\u001b[0m         \u001b[0mnext\u001b[0m\u001b[0;34m(\u001b[0m\u001b[0moutput\u001b[0m\u001b[0;34m)\u001b[0m\u001b[0;34m\u001b[0m\u001b[0;34m\u001b[0m\u001b[0m\n\u001b[1;32m   2006\u001b[0m \u001b[0;34m\u001b[0m\u001b[0m\n\u001b[0;32m-> 2007\u001b[0;31m         \u001b[0;32mreturn\u001b[0m \u001b[0moutput\u001b[0m \u001b[0;32mif\u001b[0m \u001b[0mself\u001b[0m\u001b[0;34m.\u001b[0m\u001b[0mreturn_generator\u001b[0m \u001b[0;32melse\u001b[0m \u001b[0mlist\u001b[0m\u001b[0;34m(\u001b[0m\u001b[0moutput\u001b[0m\u001b[0;34m)\u001b[0m\u001b[0;34m\u001b[0m\u001b[0;34m\u001b[0m\u001b[0m\n\u001b[0m\u001b[1;32m   2008\u001b[0m \u001b[0;34m\u001b[0m\u001b[0m\n\u001b[1;32m   2009\u001b[0m     \u001b[0;32mdef\u001b[0m \u001b[0m__repr__\u001b[0m\u001b[0;34m(\u001b[0m\u001b[0mself\u001b[0m\u001b[0;34m)\u001b[0m\u001b[0;34m:\u001b[0m\u001b[0;34m\u001b[0m\u001b[0;34m\u001b[0m\u001b[0m\n",
            "\u001b[0;32m/usr/local/lib/python3.10/dist-packages/joblib/parallel.py\u001b[0m in \u001b[0;36m_get_outputs\u001b[0;34m(self, iterator, pre_dispatch)\u001b[0m\n\u001b[1;32m   1648\u001b[0m \u001b[0;34m\u001b[0m\u001b[0m\n\u001b[1;32m   1649\u001b[0m             \u001b[0;32mwith\u001b[0m \u001b[0mself\u001b[0m\u001b[0;34m.\u001b[0m\u001b[0m_backend\u001b[0m\u001b[0;34m.\u001b[0m\u001b[0mretrieval_context\u001b[0m\u001b[0;34m(\u001b[0m\u001b[0;34m)\u001b[0m\u001b[0;34m:\u001b[0m\u001b[0;34m\u001b[0m\u001b[0;34m\u001b[0m\u001b[0m\n\u001b[0;32m-> 1650\u001b[0;31m                 \u001b[0;32myield\u001b[0m \u001b[0;32mfrom\u001b[0m \u001b[0mself\u001b[0m\u001b[0;34m.\u001b[0m\u001b[0m_retrieve\u001b[0m\u001b[0;34m(\u001b[0m\u001b[0;34m)\u001b[0m\u001b[0;34m\u001b[0m\u001b[0;34m\u001b[0m\u001b[0m\n\u001b[0m\u001b[1;32m   1651\u001b[0m \u001b[0;34m\u001b[0m\u001b[0m\n\u001b[1;32m   1652\u001b[0m         \u001b[0;32mexcept\u001b[0m \u001b[0mGeneratorExit\u001b[0m\u001b[0;34m:\u001b[0m\u001b[0;34m\u001b[0m\u001b[0;34m\u001b[0m\u001b[0m\n",
            "\u001b[0;32m/usr/local/lib/python3.10/dist-packages/joblib/parallel.py\u001b[0m in \u001b[0;36m_retrieve\u001b[0;34m(self)\u001b[0m\n\u001b[1;32m   1760\u001b[0m                 (self._jobs[0].get_status(\n\u001b[1;32m   1761\u001b[0m                     timeout=self.timeout) == TASK_PENDING)):\n\u001b[0;32m-> 1762\u001b[0;31m                 \u001b[0mtime\u001b[0m\u001b[0;34m.\u001b[0m\u001b[0msleep\u001b[0m\u001b[0;34m(\u001b[0m\u001b[0;36m0.01\u001b[0m\u001b[0;34m)\u001b[0m\u001b[0;34m\u001b[0m\u001b[0;34m\u001b[0m\u001b[0m\n\u001b[0m\u001b[1;32m   1763\u001b[0m                 \u001b[0;32mcontinue\u001b[0m\u001b[0;34m\u001b[0m\u001b[0;34m\u001b[0m\u001b[0m\n\u001b[1;32m   1764\u001b[0m \u001b[0;34m\u001b[0m\u001b[0m\n",
            "\u001b[0;31mKeyboardInterrupt\u001b[0m: "
          ]
        }
      ]
    },
    {
      "cell_type": "code",
      "source": [
        "best_params_precision, best_scores_precision = obtiene_mejores_parametros(X_train, y_train, models, \"precision\")\n",
        "print(best_params_precision)\n",
        "print(best_scores_precision)"
      ],
      "metadata": {
        "id": "OS-ao0PjyKXc",
        "colab": {
          "base_uri": "https://localhost:8080/"
        },
        "outputId": "c5b0f8f8-ab6e-4509-db5b-69494656b2a7"
      },
      "execution_count": null,
      "outputs": [
        {
          "output_type": "stream",
          "name": "stdout",
          "text": [
            "Optimizando Logistic Regression usando precision...\n"
          ]
        }
      ]
    },
    {
      "cell_type": "code",
      "source": [
        "best_params_recall, best_scores_recall = obtiene_mejores_parametros(X_train, y_train, models, \"recall\")\n",
        "print(best_params_recall)\n",
        "print(best_scores_recall)"
      ],
      "metadata": {
        "id": "vOpuDUALyPQe"
      },
      "execution_count": null,
      "outputs": []
    },
    {
      "cell_type": "code",
      "source": [
        "best_params_f1, best_scores_f1 = obtiene_mejores_parametros(X_train, y_train, models, \"f1\")\n",
        "print(best_params_f1)\n",
        "print(best_scores_f1)"
      ],
      "metadata": {
        "id": "H0VMXD9-ySTb"
      },
      "execution_count": null,
      "outputs": []
    },
    {
      "cell_type": "code",
      "source": [
        "best = {\"accuracy\" : best_scores_accuracy,\n",
        "        \"precision\": best_scores_precision,\n",
        "        \"recall\": best_scores_recall,\n",
        "        \"f1score\": best_scores_f1}\n",
        "best_parameters = {\"accuracy\" : best_params_accuracy,\n",
        "        \"precision\": best_params_precision,\n",
        "        \"recall\": best_params_recall,\n",
        "        \"f1score\": best_params_f1\n",
        "}\n",
        "resultados = []\n",
        "for metrica in ['accuracy', 'precision', 'recall', 'f1score']:\n",
        "  filtered_items = [(key, value) for key, value in best[metrica].items() if value != 1]\n",
        "  name_best_model, best_score = max(filtered_items, key=itemgetter(1))\n",
        "  best_parameters_model = best_parameters[metrica][name_best_model]\n",
        "  # Agrega el resultado\n",
        "  resultados.append({\"métrica\" : metrica,\n",
        "                     \"nombre_modelo\" : name_best_model,\n",
        "                     \"parámetros\": best_parameters_model,\n",
        "                     \"score\" : best_score})\n"
      ],
      "metadata": {
        "id": "q28DjPx0yXGu"
      },
      "execution_count": null,
      "outputs": []
    },
    {
      "cell_type": "code",
      "source": [
        "pd.DataFrame(resultados)"
      ],
      "metadata": {
        "id": "Dw2gLGZVyanj"
      },
      "execution_count": null,
      "outputs": []
    },
    {
      "cell_type": "code",
      "source": [
        "mejor_modelo_f1 = pd.DataFrame(resultados).query(\"métrica == 'f1score'\")"
      ],
      "metadata": {
        "id": "2EK70j7Dyewt"
      },
      "execution_count": null,
      "outputs": []
    },
    {
      "cell_type": "code",
      "source": [
        "print(mejor_modelo_f1.score)\n",
        "print(mejor_modelo_f1.parámetros)\n",
        "print(mejor_modelo_f1.nombre_modelo)"
      ],
      "metadata": {
        "id": "0uGzLbYlyhe3"
      },
      "execution_count": null,
      "outputs": []
    },
    {
      "cell_type": "code",
      "source": [
        "for parametro, valor in mejor_modelo_f1.parámetros.items():\n",
        "  print(parametro, valor)"
      ],
      "metadata": {
        "id": "Q21X17VZymWa"
      },
      "execution_count": null,
      "outputs": []
    },
    {
      "cell_type": "code",
      "source": [
        "model_clf_f1 = DecisionTreeClassifier(random_state=29, class_weight=\"balanced\",\n",
        "                                   criterion = 'entropy', max_depth = None, splitter = 'best')\n",
        "model_clf_f1.fit(X_train, y_train)"
      ],
      "metadata": {
        "id": "MOc2IFIZypXJ"
      },
      "execution_count": null,
      "outputs": []
    },
    {
      "cell_type": "code",
      "source": [
        "y_pred_f1 = model_clf_f1.predict(X_test)"
      ],
      "metadata": {
        "id": "8sUnG99TywEf"
      },
      "execution_count": null,
      "outputs": []
    },
    {
      "cell_type": "code",
      "source": [
        "matriz = confusion_matrix(y_test, y_pred_f1)\n",
        "\n",
        "fig, axes = plt.subplots(1, 1, figsize=(5, 4), facecolor='silver')\n",
        "ver_matriz(matriz, target_names, axes)"
      ],
      "metadata": {
        "id": "7Y16MJRJyzKK"
      },
      "execution_count": null,
      "outputs": []
    },
    {
      "cell_type": "code",
      "source": [
        "# Define rangos para catalogar el valor de ROC_AUC\n",
        "valores = [[-math.inf, 0.49], [0.5, 0.59], [0.6, 0.74]\n",
        ",[0.75, 0.89], [0.9, np.inf]]\n",
        "rangos = pd.DataFrame(np.array(valores).reshape(5,-1),\n",
        "            index = ['Muy Malo', 'Malo', 'Regular', 'Bueno', 'Muy bueno'], columns = ['Inferior', 'Superior'])\n",
        "print(rangos)"
      ],
      "metadata": {
        "id": "hQsZ-5SpzPxO"
      },
      "execution_count": null,
      "outputs": []
    },
    {
      "cell_type": "code",
      "source": [
        "# Función para encontrar el rango de un valor dado\n",
        "def encontrar_rango(valor : float, rangos : pd.DataFrame) -> str:\n",
        "    for rango, (inf, sup) in rangos.iterrows():\n",
        "        if inf <= round(valor,2) <= sup:\n",
        "            return rango\n",
        "    return 'Fuera de rango'"
      ],
      "metadata": {
        "id": "NRnzetN8zTK6"
      },
      "execution_count": null,
      "outputs": []
    },
    {
      "cell_type": "code",
      "source": [
        "auc_r, tpr_r, fpr_r, thresholds_r = get_auc(y_test, y_pred_f1)\n",
        "print(\"Rango ROC_AUC\", encontrar_rango(valor=auc_r, rangos=rangos))\n",
        "print(Counter(y_pred_f1))"
      ],
      "metadata": {
        "id": "RVNtohQ6y3V_"
      },
      "execution_count": null,
      "outputs": []
    },
    {
      "cell_type": "code",
      "source": [
        "y_prob_f1 = model_clf_f1.predict_proba (X_test) [ : , 1]\n",
        "ejex, ejey, _ = roc_curve (y_test, y_prob_f1)\n",
        "roc_auc = auc (ejex, ejey)\n",
        "\n",
        "plt.figure ()\n",
        "plt.plot (ejex, ejey, color = 'darkorange', lw = 2, label = 'AUC = %0.4f' % roc_auc)\n",
        "\n",
        "plt.plot ([0, 1], [0, 1], color = (0.6, 0.6, 0.6), linestyle = '--')\n",
        "plt.plot ([0, 0, 1], [0, 1, 1], lw = 2, linestyle = ':', color = 'black',\n",
        "          label = 'Clasificador perfecto')\n",
        "\n",
        "plt.xlim ([-0.05, 1.05])\n",
        "plt.ylim ([-0.05, 1.05])\n",
        "\n",
        "plt.xlabel ('FPR (1 - ESPECIFICIDAD)', fontsize=14, fontweight=\"bold\")\n",
        "plt.ylabel ('SENSIBILIDAD', fontsize=14, fontweight=\"bold\")\n",
        "plt.legend (loc = 'lower right')\n",
        "plt.title(\"Curva ROC\", fontsize=16, fontweight=\"bold\")\n",
        "plt.show ()"
      ],
      "metadata": {
        "id": "UxoKd2Xjy_fc"
      },
      "execution_count": null,
      "outputs": []
    },
    {
      "cell_type": "code",
      "source": [
        "print(classification_report(y_test, y_pred_f1))"
      ],
      "metadata": {
        "id": "qPu0ZyEpzeEQ"
      },
      "execution_count": null,
      "outputs": []
    },
    {
      "cell_type": "code",
      "source": [
        "# Crear un DataFrame para facilitar el análisis\n",
        "features_df = pd.DataFrame({\n",
        "    'Caracteristica': X_train.columns,  # Nombres de las columnas\n",
        "    'Importancia': model_clf_f1.feature_importances_\n",
        "})\n",
        "\n",
        "# Ordenar las características por importancia (descendente)\n",
        "features_df = features_df.sort_values(by='Importancia', ascending=False)\n",
        "\n",
        "# Mostrar las 10 características más importantes\n",
        "print(features_df.head(10))\n",
        "\n",
        "# Visualización de las importancias\n",
        "plt.figure(figsize=(10, 6))\n",
        "plt.barh(features_df['Caracteristica'], features_df['Importancia'], color='skyblue')\n",
        "plt.xlabel('Importancia', fontsize=14, fontweight=\"bold\")\n",
        "plt.ylabel('Característica', fontsize=14, fontweight=\"bold\")\n",
        "plt.title('Importancia de las características en mejor modelo',\n",
        "          fontsize=16, fontweight=\"bold\")\n",
        "plt.gca().invert_yaxis()  # Invertir eje para mostrar la más importante arriba\n",
        "plt.show()"
      ],
      "metadata": {
        "id": "-0US4PyHzr4_"
      },
      "execution_count": null,
      "outputs": []
    },
    {
      "cell_type": "code",
      "source": [
        "data_para_excel = open(\"data_excel_f1.txt\", \"w\")\n",
        "data_para_excel.write(\"id;score clasificación;clase real\\n\")\n",
        "for indice in range(len(model_clf_f1.predict_proba(X_test))):\n",
        "  data_para_excel.write(str(indice+1) + \";\" +\n",
        "                        str(model_clf_f1.predict_proba(X_test)[indice][1]) + \";\" +\n",
        "                        (\"SI\" if np.array(y_test)[indice] else \"NO\") + \"\\n\")\n",
        "data_para_excel.close()"
      ],
      "metadata": {
        "id": "PJBFMZ2rzumt"
      },
      "execution_count": null,
      "outputs": []
    }
  ]
}